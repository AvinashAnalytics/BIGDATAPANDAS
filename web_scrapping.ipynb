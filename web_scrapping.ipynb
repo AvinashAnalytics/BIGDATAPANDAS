{
 "cells": [
  {
   "cell_type": "code",
   "execution_count": 12,
   "metadata": {},
   "outputs": [],
   "source": [
    "from urllib import request"
   ]
  },
  {
   "cell_type": "code",
   "execution_count": 6,
   "metadata": {},
   "outputs": [],
   "source": [
    "import requests as r"
   ]
  },
  {
   "cell_type": "code",
   "execution_count": 13,
   "metadata": {},
   "outputs": [],
   "source": [
    "from urllib.request import urlopen"
   ]
  },
  {
   "cell_type": "code",
   "execution_count": 14,
   "metadata": {},
   "outputs": [],
   "source": [
    "url_a='https://www.python.org/'"
   ]
  },
  {
   "cell_type": "code",
   "execution_count": 15,
   "metadata": {},
   "outputs": [],
   "source": [
    "response_a= request.urlopen(url_a)"
   ]
  },
  {
   "cell_type": "code",
   "execution_count": 16,
   "metadata": {},
   "outputs": [
    {
     "name": "stdout",
     "output_type": "stream",
     "text": [
      "File size: 0.011333465576171875 MB\n"
     ]
    }
   ],
   "source": [
    "file_size = int(response_a.headers.get('Content-Length', 0))\n",
    "print(f\"File size: {file_size / (1024 * 1024)} MB\")"
   ]
  },
  {
   "cell_type": "code",
   "execution_count": 73,
   "metadata": {},
   "outputs": [
    {
     "name": "stdout",
     "output_type": "stream",
     "text": [
      "['<!doctype html>', '<!--[if lt IE 7]>   <html class=\"no-js ie6 lt-ie7 lt-ie8 lt-ie9\">   <![endif]-->', '<!--[if IE 7]>      <html class=\"no-js ie7 lt-ie8 lt-ie9\">          <![endif]-->', '<!--[if IE 8]>      <html class=\"no-js ie8 lt-ie9\">                 <![endif]-->', '<!--[if gt IE 8]><!--><html class=\"no-js\" lang=\"en\" dir=\"ltr\">  <!--<![endif]-->', '', '<head>', '    <!-- Google tag (gtag.js) -->', '    <script async src=\"https://www.googletagmanager.com/gtag/js?id=G-TF35YF9CVH\"></script>', '    <script>', '      window.dataLayer = window.dataLayer || [];', '      function gtag(){dataLayer.push(arguments);}', \"      gtag('js', new Date());\", \"      gtag('config', 'G-TF35YF9CVH');\", '    </script>', '    <!-- Plausible.io analytics -->', '    <script defer data-domain=\"python.org\" src=\"https://plausible.io/js/script.js\"></script>', '', '    <meta charset=\"utf-8\">', '    <meta http-equiv=\"X-UA-Compatible\" content=\"IE=edge\">', '', '    <link rel=\"prefetch\" href=\"//ajax.googleapis.com/ajax/libs/jquery/1.8.2/jquery.min.js\">', '    <link rel=\"prefetch\" href=\"//ajax.googleapis.com/ajax/libs/jqueryui/1.12.1/jquery-ui.min.js\">', '', '    <meta name=\"application-name\" content=\"Python.org\">', '    <meta name=\"msapplication-tooltip\" content=\"The official home of the Python Programming Language\">', '    <meta name=\"apple-mobile-web-app-title\" content=\"Python.org\">', '    <meta name=\"apple-mobile-web-app-capable\" content=\"yes\">', '    <meta name=\"apple-mobile-web-app-status-bar-style\" content=\"black\">', '', '    <meta name=\"viewport\" content=\"width=device-width, initial-scale=1.0\">', '    <meta name=\"HandheldFriendly\" content=\"True\">', '    <meta name=\"format-detection\" content=\"telephone=no\">', '    <meta http-equiv=\"cleartype\" content=\"on\">', '    <meta http-equiv=\"imagetoolbar\" content=\"false\">', '', '    <script async', '            src=\"https://media.ethicalads.io/media/client/v1.4.0/ethicalads.min.js\"', '            integrity=\"sha256-U3hKDidudIaxBDEzwGJApJgPEf2mWk6cfMWghrAa6i0= sha384-UcmsCqcNRSLW/dV3Lo1oCi2/VaurXbib6p4HyUEOeIa/4OpsrnucrugAefzVZJfI sha512-q4t1L4xEjGV2R4hzqCa41P8jrgFUS8xTb8rdNv4FGvw7FpydVj/kkxBJHOiaoxHa8olCcx1Slk9K+3sNbsM4ug==\"', '            crossorigin=\"anonymous\"', '    ></script>', '    <script src=\"/static/js/libs/modernizr.js\"></script>', '', '    <link href=\"/static/stylesheets/style.08a078d0aa02.css\" rel=\"stylesheet\" type=\"text/css\" media=\"all\" title=\"default\" />', '    <link href=\"/static/stylesheets/mq.31ede2afc427.css\" rel=\"stylesheet\" type=\"text/css\" media=\"not print, braille, embossed, speech, tty\" />', '    <link href=\"/static/stylesheets/no-mq.bf0c425cdb73.css\" rel=\"stylesheet\" type=\"text/css\" media=\"screen\" />', '    ', '', '    <!--[if (lte IE 8)&(!IEMobile)]>', '    <link href=\"/static/stylesheets/no-mq.bf0c425cdb73.css\" rel=\"stylesheet\" type=\"text/css\" media=\"screen\" />', '    ', '    ', '    <![endif]-->', '    <link rel=\"stylesheet\" href=\"//ajax.googleapis.com/ajax/libs/jqueryui/1.12.1/themes/smoothness/jquery-ui.css\">', '', '    ', '    <link rel=\"icon\" type=\"image/x-icon\" href=\"/static/favicon.ico\">', '    <link rel=\"apple-touch-icon-precomposed\" sizes=\"144x144\" href=\"/static/apple-touch-icon-144x144-precomposed.png\">', '    <link rel=\"apple-touch-icon-precomposed\" sizes=\"114x114\" href=\"/static/apple-touch-icon-114x114-precomposed.png\">', '    <link rel=\"apple-touch-icon-precomposed\" sizes=\"72x72\" href=\"/static/apple-touch-icon-72x72-precomposed.png\">', '    <link rel=\"apple-touch-icon-precomposed\" href=\"/static/apple-touch-icon-precomposed.png\">', '    <link rel=\"apple-touch-icon\" href=\"/static/apple-touch-icon-precomposed.png\">', '', '    ', '    <meta name=\"msapplication-TileImage\" content=\"/static/metro-icon-144x144.png\"><!-- white shape -->', '    <meta name=\"msapplication-TileColor\" content=\"#3673a5\"><!-- python blue -->', '    <meta name=\"msapplication-navbutton-color\" content=\"#3673a5\">', '', '    <title>Welcome to Python.org</title>', '', '    <meta name=\"description\" content=\"The official home of the Python Programming Language\">', '    <meta name=\"keywords\" content=\"Python programming language object oriented web free open source software license documentation download community\">', '', '    ', '    <meta property=\"og:type\" content=\"website\">', '    <meta property=\"og:site_name\" content=\"Python.org\">', '    <meta property=\"og:title\" content=\"Welcome to Python.org\">', '    <meta property=\"og:description\" content=\"The official home of the Python Programming Language\">', '    ', '    <meta property=\"og:image\" content=\"https://www.python.org/static/opengraph-icon-200x200.png\">', '    <meta property=\"og:image:secure_url\" content=\"https://www.python.org/static/opengraph-icon-200x200.png\">', '    ', '    <meta property=\"og:url\" content=\"https://www.python.org/\">', '', '    <link rel=\"author\" href=\"/humans.txt\">', '', '    <link rel=\"alternate\" type=\"application/rss+xml\" title=\"Python Enhancement Proposals\"', '          href=\"https://peps.python.org/peps.rss\">', '    <link rel=\"alternate\" type=\"application/rss+xml\" title=\"Python Job Opportunities\"', '          href=\"https://www.python.org/jobs/feed/rss/\">', '    <link rel=\"alternate\" type=\"application/rss+xml\" title=\"Python Software Foundation News\"', '          href=\"https://feeds.feedburner.com/PythonSoftwareFoundationNews\">', '    <link rel=\"alternate\" type=\"application/rss+xml\" title=\"Python Insider\"', '          href=\"https://feeds.feedburner.com/PythonInsider\">', '   <link rel=\"alternate\" type=\"application/rss+xml\" title=\"Python Releases\"', '         href=\"https://www.python.org/downloads/feed.rss\">', '', '    ', '', '    ', '    <script type=\"application/ld+json\">', '     {', '       \"@context\": \"https://schema.org\",', '       \"@type\": \"WebSite\",', '       \"url\": \"https://www.python.org/\",', '       \"potentialAction\": {', '         \"@type\": \"SearchAction\",', '         \"target\": \"https://www.python.org/search/?q={search_term_string}\",', '         \"query-input\": \"required name=search_term_string\"', '       }', '     }', '    </script>', '', '    ', '    <script type=\"text/javascript\">', '    var _gaq = _gaq || [];', \"    _gaq.push(['_setAccount', 'UA-39055973-1']);\", \"    _gaq.push(['_trackPageview']);\", '', '    (function() {', \"        var ga = document.createElement('script'); ga.type = 'text/javascript'; ga.async = true;\", \"        ga.src = ('https:' == document.location.protocol ? 'https://ssl' : 'http://www') + '.google-analytics.com/ga.js';\", \"        var s = document.getElementsByTagName('script')[0]; s.parentNode.insertBefore(ga, s);\", '    })();', '    </script>', '    ', '</head>', '', '<body class=\"python home\" id=\"homepage\">', '', '    <div id=\"touchnav-wrapper\">', '', '        <div id=\"nojs\" class=\"do-not-print\">', '            <p><strong>Notice:</strong> While JavaScript is not essential for this website, your interaction with the content will be limited. Please turn JavaScript on for the full experience. </p>', '        </div>', '', '        <!--[if lte IE 8]>', '        <div id=\"oldie-warning\" class=\"do-not-print\">', '            <p>', '                <strong>Notice:</strong> Your browser is <em>ancient</em>. Please', '                <a href=\"http://browsehappy.com/\">upgrade to a different browser</a> to experience a better web.', '            </p>', '        </div>', '        <![endif]-->', '', '        <!-- Sister Site Links -->', '        <div id=\"top\" class=\"top-bar do-not-print\">', '', '            <nav class=\"meta-navigation container\" role=\"navigation\">', '', '                ', '                <div class=\"skip-link screen-reader-text\">', '                    <a href=\"#content\" title=\"Skip to content\">Skip to content</a>', '                </div>', '', '                ', '                <a id=\"close-python-network\" class=\"jump-link\" href=\"#python-network\" aria-hidden=\"true\">', '                    <span aria-hidden=\"true\" class=\"icon-arrow-down\"><span>&#9660;</span></span> Close', '                </a>', '', '                ', '', '<ul class=\"menu\" role=\"tree\">', '    ', '    <li class=\"python-meta current_item selectedcurrent_branch selected\">', '        <a href=\"/\" title=\"The Python Programming Language\" class=\"current_item selectedcurrent_branch selected\">Python</a>', '    </li>', '    ', '    <li class=\"psf-meta \">', '        <a href=\"https://www.python.org/psf/\" title=\"The Python Software Foundation\" >PSF</a>', '    </li>', '    ', '    <li class=\"docs-meta \">', '        <a href=\"https://docs.python.org\" title=\"Python Documentation\" >Docs</a>', '    </li>', '    ', '    <li class=\"pypi-meta \">', '        <a href=\"https://pypi.org/\" title=\"Python Package Index\" >PyPI</a>', '    </li>', '    ', '    <li class=\"jobs-meta \">', '        <a href=\"/jobs/\" title=\"Python Job Board\" >Jobs</a>', '    </li>', '    ', '    <li class=\"shop-meta \">', '        <a href=\"/community/\"  >Community</a>', '    </li>', '    ', '</ul>', '', '', '                <a id=\"python-network\" class=\"jump-link\" href=\"#top\" aria-hidden=\"true\">', '                    <span aria-hidden=\"true\" class=\"icon-arrow-up\"><span>&#9650;</span></span> The Python Network', '                </a>', '', '            </nav>', '', '        </div>', '', '        <!-- Header elements -->', '        <header class=\"main-header\" role=\"banner\">', '            <div class=\"container\">', '', '                <h1 class=\"site-headline\">', '                    <a href=\"/\"><img class=\"python-logo\" src=\"/static/img/python-logo.png\" alt=\"python&trade;\"></a>', '                </h1>', '', '                <div class=\"options-bar-container do-not-print\">', '                    <a href=\"https://psfmember.org/civicrm/contribute/transact?reset=1&id=2\" class=\"donate-button\">Donate</a>', '                    <div class=\"options-bar\">', '                        ', '                        <a id=\"site-map-link\" class=\"jump-to-menu\" href=\"#site-map\"><span class=\"menu-icon\">&equiv;</span> Menu</a><form class=\"search-the-site\" action=\"/search/\" method=\"get\">', '                            <fieldset title=\"Search Python.org\">', '', '                                <span aria-hidden=\"true\" class=\"icon-search\"></span>', '', '                                <label class=\"screen-reader-text\" for=\"id-search-field\">Search This Site</label>', '                                <input id=\"id-search-field\" name=\"q\" type=\"search\" role=\"textbox\" class=\"search-field\" placeholder=\"Search\" value=\"\" tabindex=\"1\">', '', '                                <button type=\"submit\" name=\"submit\" id=\"submit\" class=\"search-button\" title=\"Submit this Search\" tabindex=\"3\">', '                                    GO', '                                </button>', '', '                                ', '                                <!--[if IE]><input type=\"text\" style=\"display: none;\" disabled=\"disabled\" size=\"1\" tabindex=\"4\"><![endif]-->', '', '                            </fieldset>', '                        </form><span class=\"breaker\"></span><div class=\"adjust-font-size\" aria-hidden=\"true\">', '                            <ul class=\"navigation menu\" aria-label=\"Adjust Text Size on Page\">', '                                <li class=\"tier-1 last\" aria-haspopup=\"true\">', '                                    <a href=\"#\" class=\"action-trigger\"><strong><small>A</small> A</strong></a>', '                                    <ul class=\"subnav menu\">', '                                        <li class=\"tier-2 element-1\" role=\"treeitem\"><a class=\"text-shrink\" title=\"Make Text Smaller\" href=\"javascript:;\">Smaller</a></li>', '                                        <li class=\"tier-2 element-2\" role=\"treeitem\"><a class=\"text-grow\" title=\"Make Text Larger\" href=\"javascript:;\">Larger</a></li>', '                                        <li class=\"tier-2 element-3\" role=\"treeitem\"><a class=\"text-reset\" title=\"Reset any font size changes I have made\" href=\"javascript:;\">Reset</a></li>', '                                    </ul>', '                                </li>', '                            </ul>', '                        </div><div class=\"winkwink-nudgenudge\">', '                            <ul class=\"navigation menu\" aria-label=\"Social Media Navigation\">', '                                <li class=\"tier-1 last\" aria-haspopup=\"true\">', '                                    <a href=\"#\" class=\"action-trigger\">Socialize</a>', '                                    <ul class=\"subnav menu\">', '                                        <li class=\"tier-2 element-1\" role=\"treeitem\"><a href=\"https://www.linkedin.com/company/python-software-foundation/\"><i aria-hidden=\"true\" class=\"fa fa-linkedin-square\"></i>LinkedIn</a></li>', '                                        <li class=\"tier-2 element-2\" role=\"treeitem\"><a href=\"https://fosstodon.org/@ThePSF\"><span aria-hidden=\"true\" class=\"icon-mastodon\"></span>Mastodon</a></li>', '                                        <li class=\"tier-2 element-3\" role=\"treeitem\"><a href=\"/community/irc/\"><span aria-hidden=\"true\" class=\"icon-freenode\"></span>Chat on IRC</a></li>', '                                        <li class=\"tier-2 element-4\" role=\"treeitem\"><a href=\"https://twitter.com/ThePSF\"><span aria-hidden=\"true\" class=\"icon-twitter\"></span>Twitter</a></li>', '                                    </ul>', '                                </li>', '                            </ul>', '                        </div>', '                        <span data-html-include=\"/authenticated\"></span>', '                    </div><!-- end options-bar -->', '                </div>', '', '                <nav id=\"mainnav\" class=\"python-navigation main-navigation do-not-print\" role=\"navigation\">', '                    ', '                        ', '<ul class=\"navigation menu\" role=\"menubar\" aria-label=\"Main Navigation\">', '  ', '    ', '    ', '    <li id=\"about\" class=\"tier-1 element-1  \" aria-haspopup=\"true\">', '        <a href=\"/about/\" title=\"\" class=\"\">About</a>', '        ', '            ', '', '<ul class=\"subnav menu\" role=\"menu\" aria-hidden=\"true\">', '    ', '        <li class=\"tier-2 element-1\" role=\"treeitem\"><a href=\"/about/apps/\" title=\"\">Applications</a></li>', '    ', '        <li class=\"tier-2 element-2\" role=\"treeitem\"><a href=\"/about/quotes/\" title=\"\">Quotes</a></li>', '    ', '        <li class=\"tier-2 element-3\" role=\"treeitem\"><a href=\"/about/gettingstarted/\" title=\"\">Getting Started</a></li>', '    ', '        <li class=\"tier-2 element-4\" role=\"treeitem\"><a href=\"/about/help/\" title=\"\">Help</a></li>', '    ', '        <li class=\"tier-2 element-5\" role=\"treeitem\"><a href=\"http://brochure.getpython.info/\" title=\"\">Python Brochure</a></li>', '    ', '</ul>', '', '        ', '    </li>', '    ', '    ', '    ', '    <li id=\"downloads\" class=\"tier-1 element-2  \" aria-haspopup=\"true\">', '        <a href=\"/downloads/\" title=\"\" class=\"\">Downloads</a>', '        ', '            ', '', '<ul class=\"subnav menu\" role=\"menu\" aria-hidden=\"true\">', '    ', '        <li class=\"tier-2 element-1\" role=\"treeitem\"><a href=\"/downloads/\" title=\"\">All releases</a></li>', '    ', '        <li class=\"tier-2 element-2\" role=\"treeitem\"><a href=\"/downloads/source/\" title=\"\">Source code</a></li>', '    ', '        <li class=\"tier-2 element-3\" role=\"treeitem\"><a href=\"/downloads/windows/\" title=\"\">Windows</a></li>', '    ', '        <li class=\"tier-2 element-4\" role=\"treeitem\"><a href=\"/downloads/macos/\" title=\"\">macOS</a></li>', '    ', '        <li class=\"tier-2 element-5\" role=\"treeitem\"><a href=\"/download/other/\" title=\"\">Other Platforms</a></li>', '    ', '        <li class=\"tier-2 element-6\" role=\"treeitem\"><a href=\"https://docs.python.org/3/license.html\" title=\"\">License</a></li>', '    ', '        <li class=\"tier-2 element-7\" role=\"treeitem\"><a href=\"/download/alternatives\" title=\"\">Alternative Implementations</a></li>', '    ', '</ul>', '', '        ', '    </li>', '    ', '    ', '    ', '    <li id=\"documentation\" class=\"tier-1 element-3  \" aria-haspopup=\"true\">', '        <a href=\"/doc/\" title=\"\" class=\"\">Documentation</a>', '        ', '            ', '', '<ul class=\"subnav menu\" role=\"menu\" aria-hidden=\"true\">', '    ', '        <li class=\"tier-2 element-1\" role=\"treeitem\"><a href=\"/doc/\" title=\"\">Docs</a></li>', '    ', '        <li class=\"tier-2 element-2\" role=\"treeitem\"><a href=\"/doc/av\" title=\"\">Audio/Visual Talks</a></li>', '    ', '        <li class=\"tier-2 element-3\" role=\"treeitem\"><a href=\"https://wiki.python.org/moin/BeginnersGuide\" title=\"\">Beginner&#x27;s Guide</a></li>', '    ', '        <li class=\"tier-2 element-4\" role=\"treeitem\"><a href=\"https://devguide.python.org/\" title=\"\">Developer&#x27;s Guide</a></li>', '    ', '        <li class=\"tier-2 element-5\" role=\"treeitem\"><a href=\"https://docs.python.org/faq/\" title=\"\">FAQ</a></li>', '    ', '        <li class=\"tier-2 element-6\" role=\"treeitem\"><a href=\"http://wiki.python.org/moin/Languages\" title=\"\">Non-English Docs</a></li>', '    ', '        <li class=\"tier-2 element-7\" role=\"treeitem\"><a href=\"https://peps.python.org\" title=\"\">PEP Index</a></li>', '    ', '        <li class=\"tier-2 element-8\" role=\"treeitem\"><a href=\"https://wiki.python.org/moin/PythonBooks\" title=\"\">Python Books</a></li>', '    ', '        <li class=\"tier-2 element-9\" role=\"treeitem\"><a href=\"/doc/essays/\" title=\"\">Python Essays</a></li>', '    ', '</ul>', '', '        ', '    </li>', '    ', '    ', '    ', '    <li id=\"community\" class=\"tier-1 element-4  \" aria-haspopup=\"true\">', '        <a href=\"/community/\" title=\"\" class=\"\">Community</a>', '        ', '            ', '', '<ul class=\"subnav menu\" role=\"menu\" aria-hidden=\"true\">', '    ', '        <li class=\"tier-2 element-1\" role=\"treeitem\"><a href=\"/community/diversity/\" title=\"\">Diversity</a></li>', '    ', '        <li class=\"tier-2 element-2\" role=\"treeitem\"><a href=\"/community/lists/\" title=\"\">Mailing Lists</a></li>', '    ', '        <li class=\"tier-2 element-3\" role=\"treeitem\"><a href=\"/community/irc/\" title=\"\">IRC</a></li>', '    ', '        <li class=\"tier-2 element-4\" role=\"treeitem\"><a href=\"/community/forums/\" title=\"\">Forums</a></li>', '    ', '        <li class=\"tier-2 element-5\" role=\"treeitem\"><a href=\"/psf/annual-report/2021/\" title=\"\">PSF Annual Impact Report</a></li>', '    ', '        <li class=\"tier-2 element-6\" role=\"treeitem\"><a href=\"/community/workshops/\" title=\"\">Python Conferences</a></li>', '    ', '        <li class=\"tier-2 element-7\" role=\"treeitem\"><a href=\"/community/sigs/\" title=\"\">Special Interest Groups</a></li>', '    ', '        <li class=\"tier-2 element-8\" role=\"treeitem\"><a href=\"/community/logos/\" title=\"\">Python Logo</a></li>', '    ', '        <li class=\"tier-2 element-9\" role=\"treeitem\"><a href=\"https://wiki.python.org/moin/\" title=\"\">Python Wiki</a></li>', '    ', '        <li class=\"tier-2 element-10\" role=\"treeitem\"><a href=\"/psf/conduct/\" title=\"\">Code of Conduct</a></li>', '    ', '        <li class=\"tier-2 element-11\" role=\"treeitem\"><a href=\"/community/awards\" title=\"\">Community Awards</a></li>', '    ', '        <li class=\"tier-2 element-12\" role=\"treeitem\"><a href=\"/psf/get-involved/\" title=\"\">Get Involved</a></li>', '    ', '        <li class=\"tier-2 element-13\" role=\"treeitem\"><a href=\"/psf/community-stories/\" title=\"\">Shared Stories</a></li>', '    ', '</ul>', '', '        ', '    </li>', '    ', '    ', '    ', '    <li id=\"success-stories\" class=\"tier-1 element-5  \" aria-haspopup=\"true\">', '        <a href=\"/success-stories/\" title=\"success-stories\" class=\"\">Success Stories</a>', '        ', '            ', '', '<ul class=\"subnav menu\" role=\"menu\" aria-hidden=\"true\">', '    ', '        <li class=\"tier-2 element-1\" role=\"treeitem\"><a href=\"/success-stories/category/arts/\" title=\"\">Arts</a></li>', '    ', '        <li class=\"tier-2 element-2\" role=\"treeitem\"><a href=\"/success-stories/category/business/\" title=\"\">Business</a></li>', '    ', '        <li class=\"tier-2 element-3\" role=\"treeitem\"><a href=\"/success-stories/category/education/\" title=\"\">Education</a></li>', '    ', '        <li class=\"tier-2 element-4\" role=\"treeitem\"><a href=\"/success-stories/category/engineering/\" title=\"\">Engineering</a></li>', '    ', '        <li class=\"tier-2 element-5\" role=\"treeitem\"><a href=\"/success-stories/category/government/\" title=\"\">Government</a></li>', '    ', '        <li class=\"tier-2 element-6\" role=\"treeitem\"><a href=\"/success-stories/category/scientific/\" title=\"\">Scientific</a></li>', '    ', '        <li class=\"tier-2 element-7\" role=\"treeitem\"><a href=\"/success-stories/category/software-development/\" title=\"\">Software Development</a></li>', '    ', '</ul>', '', '        ', '    </li>', '    ', '    ', '    ', '    <li id=\"news\" class=\"tier-1 element-6  \" aria-haspopup=\"true\">', '        <a href=\"/blogs/\" title=\"News from around the Python world\" class=\"\">News</a>', '        ', '            ', '', '<ul class=\"subnav menu\" role=\"menu\" aria-hidden=\"true\">', '    ', '        <li class=\"tier-2 element-1\" role=\"treeitem\"><a href=\"/blogs/\" title=\"Python Insider Blog Posts\">Python News</a></li>', '    ', '        <li class=\"tier-2 element-2\" role=\"treeitem\"><a href=\"/psf/newsletter/\" title=\"Python Software Foundation Newsletter\">PSF Newsletter</a></li>', '    ', '        <li class=\"tier-2 element-3\" role=\"treeitem\"><a href=\"http://pyfound.blogspot.com/\" title=\"PSF Blog\">PSF News</a></li>', '    ', '        <li class=\"tier-2 element-4\" role=\"treeitem\"><a href=\"http://pycon.blogspot.com/\" title=\"PyCon Blog\">PyCon US News</a></li>', '    ', '        <li class=\"tier-2 element-5\" role=\"treeitem\"><a href=\"http://planetpython.org/\" title=\"Planet Python\">News from the Community</a></li>', '    ', '</ul>', '', '        ', '    </li>', '    ', '    ', '    ', '    <li id=\"events\" class=\"tier-1 element-7  \" aria-haspopup=\"true\">', '        <a href=\"/events/\" title=\"\" class=\"\">Events</a>', '        ', '            ', '', '<ul class=\"subnav menu\" role=\"menu\" aria-hidden=\"true\">', '    ', '        <li class=\"tier-2 element-1\" role=\"treeitem\"><a href=\"/events/python-events/\" title=\"\">Python Events</a></li>', '    ', '        <li class=\"tier-2 element-2\" role=\"treeitem\"><a href=\"/events/python-user-group/\" title=\"\">User Group Events</a></li>', '    ', '        <li class=\"tier-2 element-3\" role=\"treeitem\"><a href=\"/events/python-events/past/\" title=\"\">Python Events Archive</a></li>', '    ', '        <li class=\"tier-2 element-4\" role=\"treeitem\"><a href=\"/events/python-user-group/past/\" title=\"\">User Group Events Archive</a></li>', '    ', '        <li class=\"tier-2 element-5\" role=\"treeitem\"><a href=\"https://wiki.python.org/moin/PythonEventsCalendar#Submitting_an_Event\" title=\"\">Submit an Event</a></li>', '    ', '</ul>', '', '        ', '    </li>', '    ', '    ', '    ', '    ', '  ', '</ul>', '', '                    ', '                </nav>', '', '                <div class=\"header-banner \"> <!-- for optional \"do-not-print\" class -->', '                    ', '        <div id=\"dive-into-python\" class=\"flex-slideshow slideshow\">', '', '            <ul class=\"launch-shell menu\" id=\"launch-shell\">', '                <li>', '                    <a class=\"button prompt\" id=\"start-shell\" data-shell-container=\"#dive-into-python\" href=\"/shell/\">&gt;_', '                        <span class=\"message\">Launch Interactive Shell</span>', '                    </a>', '                </li>', '            </ul>', '', '            <ul class=\"slides menu\">', '                ', '                <li>', '                    <div class=\"slide-code\"><pre><code><span class=\"comment\"># Python 3: Fibonacci series up to n</span>', '>>> def fib(n):', '>>>     a, b = 0, 1', '>>>     while a &lt; n:', \">>>         print(a, end=' ')\", '>>>         a, b = b, a+b', '>>>     print()', '>>> fib(1000)', '<span class=\"output\">0 1 1 2 3 5 8 13 21 34 55 89 144 233 377 610 987</span></code></pre></div>', '                    <div class=\"slide-copy\"><h1>Functions Defined</h1>', '<p>The core of extensible programming is defining functions. Python allows mandatory and optional arguments, keyword arguments, and even arbitrary argument lists. <a href=\"//docs.python.org/3/tutorial/controlflow.html#defining-functions\">More about defining functions in Python&nbsp;3</a></p></div>', '                </li>', '                ', '                <li>', '                    <div class=\"slide-code\"><pre><code><span class=\"comment\"># Python 3: List comprehensions</span>', \">>> fruits = ['Banana', 'Apple', 'Lime']\", '>>> loud_fruits = [fruit.upper() for fruit in fruits]', '>>> print(loud_fruits)', '<span class=\"output\">[\\'BANANA\\', \\'APPLE\\', \\'LIME\\']</span>', '', '<span class=\"comment\"># List and the enumerate function</span>', '>>> list(enumerate(fruits))', '<span class=\"output\">[(0, \\'Banana\\'), (1, \\'Apple\\'), (2, \\'Lime\\')]</span></code></pre></div>', '                    <div class=\"slide-copy\"><h1>Compound Data Types</h1>', '<p>Lists (known as arrays in other languages) are one of the compound data types that Python understands. Lists can be indexed, sliced and manipulated with other built-in functions. <a href=\"//docs.python.org/3/tutorial/introduction.html#lists\">More about lists in Python&nbsp;3</a></p></div>', '                </li>', '                ', '                <li>', '                    <div class=\"slide-code\"><pre><code><span class=\"comment\"># Python 3: Simple arithmetic</span>', '>>> 1 / 2', '<span class=\"output\">0.5</span>', '>>> 2 ** 3', '<span class=\"output\">8</span>', '>>> 17 / 3  <span class=\"comment\"># classic division returns a float</span>', '<span class=\"output\">5.666666666666667</span>', '>>> 17 // 3  <span class=\"comment\"># floor division</span>', '<span class=\"output\">5</span></code></pre></div>', '                    <div class=\"slide-copy\"><h1>Intuitive Interpretation</h1>', '<p>Calculations are simple with Python, and expression syntax is straightforward: the operators <code>+</code>, <code>-</code>, <code>*</code> and <code>/</code> work as expected; parentheses <code>()</code> can be used for grouping. <a href=\"http://docs.python.org/3/tutorial/introduction.html#using-python-as-a-calculator\">More about simple math functions in Python&nbsp;3</a>.</p></div>', '                </li>', '                ', '                <li>', '                    <div class=\"slide-code\"><pre><code><span class=\"comment\"># For loop on a list</span>', '>>> numbers = [2, 4, 6, 8]', '>>> product = 1', '>>> for number in numbers:', '...    product = product * number', '... ', \">>> print('The product is:', product)\", '<span class=\"output\">The product is: 384</span></code></pre></div>', '                    <div class=\"slide-copy\"><h1>All the Flow You&rsquo;d Expect</h1>', '<p>Python knows the usual control flow statements that other languages speak &mdash; <code>if</code>, <code>for</code>, <code>while</code> and <code>range</code> &mdash; with some of its own twists, of course. <a href=\"//docs.python.org/3/tutorial/controlflow.html\">More control flow tools in Python&nbsp;3</a></p></div>', '                </li>', '                ', '                <li>', '                    <div class=\"slide-code\"><pre><code><span class=\"comment\"># Simple output (with Unicode)</span>', '>>> print(\"Hello, I\\'m Python!\")', '<span class=\"output\">Hello, I\\'m Python!</span>', '<span class=\"comment\"># Input, assignment</span>', \">>> name = input('What is your name?\\\\n')\", '<span class=\"output\">What is your name?', 'Python</span>', \">>> print(f'Hi, {name}.')\", '<span class=\"output\">Hi, Python.</span></code>', '</pre></div>', '                    <div class=\"slide-copy\"><h1>Quick &amp; Easy to Learn</h1>', '<p>Experienced programmers in any other language can pick up Python very quickly, and beginners find the clean syntax and indentation structure easy to learn. <a href=\"//docs.python.org/3/tutorial/\">Whet your appetite</a> with our Python&nbsp;3 overview.</p></div>', '                </li>', '                ', '            </ul>', '        </div>', '', '', '                </div>', '', '                ', '        <div class=\"introduction\">', '            <p>Python is a programming language that lets you work quickly <span class=\"breaker\"></span>and integrate systems more effectively. <a class=\"readmore\" href=\"/doc/\">Learn More</a></p>', '        </div>', '', '', '             </div><!-- end .container -->', '        </header>', '', '        <div id=\"content\" class=\"content-wrapper\">', '            <!-- Main Content Column -->', '            <div class=\"container\">', '', '                <section class=\"main-content \" role=\"main\">', '', '                    ', '                    ', '', '                    ', '', '                    ', '', '                <div class=\"notification-bar notification-bar--survey\" style=\"background-color: #ffdf76; color: #664e04; border-color: #004d7a; text-align: center; background-color: #004d7a; color: #fff; padding: 10px; margin: .5em; position: relative; width: 95%; background-color: #ffdf76; color: #664e04; border-color: #004d7a; border-radius: 1em;\">', '  <span class=\"notification-bar__icon\">', '    <i class=\"fa fa-chart-line\" aria-hidden=\"true\"></i>', '  </span>', '  <span class=\"notification-bar__message\">Help the Python Software Foundation power Python by joining in our year end fundraiser: Donate or become a PSF Member today! &nbsp;&nbsp;<a class=\"button button--dark button--small button--primary\" style=\"color: #606060; border-color: #006dad; background-color: #006dad;\" href=\"https://www.python.org/psf/donations/2024-q4-drive/\"  target=\"_blank\" rel=\"noopener\">SUPPORT THE PSF</a>', '   </span>', '</div>', '', '', '                <div class=\"row\">', '', '                    <div class=\"small-widget get-started-widget\">', '                        <h2 class=\"widget-title\"><span aria-hidden=\"true\" class=\"icon-get-started\"></span>Get Started</h2>', \"<p>Whether you're new to programming or an experienced developer, it's easy to learn and use Python.</p>\", '<p><a href=\"/about/gettingstarted/\">Start with our Beginner&rsquo;s Guide</a></p>', '                    </div>', '', '                    <div class=\"small-widget download-widget\">', '                        <h2 class=\"widget-title\"><span aria-hidden=\"true\" class=\"icon-download\"></span>Download</h2>', '<p>Python source code and installers are available for download for all versions!</p>', '<p>Latest: <a href=\"/downloads/release/python-3131/\">Python 3.13.1</a></p>', '                    </div>', '', '                    <div class=\"small-widget documentation-widget\">', '                        <h2 class=\"widget-title\"><span aria-hidden=\"true\" class=\"icon-documentation\"></span>Docs</h2>', \"<p>Documentation for Python's standard library, along with tutorials and guides, are available online.</p>\", '<p><a href=\"https://docs.python.org\">docs.python.org</a></p>', '                    </div>', '', '                    <div class=\"small-widget jobs-widget last\">', '                        <h2 class=\"widget-title\"><span aria-hidden=\"true\" class=\"icon-jobs\"></span>Jobs</h2>', \"<p>Looking for work or have a Python related position that you're trying to hire for? Our <strong>relaunched community-run job board</strong> is the place to go.</p>\", '<p><a href=\"//jobs.python.org\">jobs.python.org</a></p>', '                    </div>', '', '                </div>', '', '                <div class=\"list-widgets row\">', '', '                    <div class=\"medium-widget blog-widget\">', '                        ', '                        <div class=\"shrubbery\">', '                        ', '                            <h2 class=\"widget-title\"><span aria-hidden=\"true\" class=\"icon-news\"></span>Latest News</h2>', '                            <p class=\"give-me-more\"><a href=\"https://blog.python.org\" title=\"More News\">More</a></p>', '                            ', '                            <ul class=\"menu\">', '                                ', '                                ', '                                <li>', '<time datetime=\"2024-12-19T14:23:00.000003+00:00\"><span class=\"say-no-more\">2024-</span>12-19</time>', ' <a href=\"https://pyfound.blogspot.com/2024/12/psf-grants-program-charter-updates-part-1.html\">PSF Grants: Program &amp; Charter Updates (Part 1)</a></li>', '                                ', '                                <li>', '<time datetime=\"2024-12-19T14:23:00.000003+00:00\"><span class=\"say-no-more\">2024-</span>12-19</time>', ' <a href=\"https://pyfound.blogspot.com/2024/12/psf-grants-program-charter-updates-tldr.html\">PSF Grants: Program &amp; Charter Updates (TLDR)</a></li>', '                                ', '                                <li>', '<time datetime=\"2024-12-19T14:23:00.000003+00:00\"><span class=\"say-no-more\">2024-</span>12-19</time>', ' <a href=\"https://pyfound.blogspot.com/2024/12/12psf-grants-program-charter-updates-part-3.html\">PSF Grants: Program &amp; Charter Updates (Part 3)</a></li>', '                                ', '                                <li>', '<time datetime=\"2024-12-19T14:23:00.000003+00:00\"><span class=\"say-no-more\">2024-</span>12-19</time>', ' <a href=\"https://pyfound.blogspot.com/2024/12/psf-grants-program-charter-updates-part-2.html\">PSF Grants: Program &amp; Charter Updates (Part 2)</a></li>', '                                ', '                                <li>', '<time datetime=\"2024-12-18T12:10:00.000002+00:00\"><span class=\"say-no-more\">2024-</span>12-18</time>', ' <a href=\"https://pyfound.blogspot.com/2024/12/announcing-python-software-foundation.html\">Announcing Python Software Foundation Fellow Members for Q3 2024! 🎉</a></li>', '                                ', '                            </ul>', '                        </div><!-- end .shrubbery -->', '', '                    </div>', '', '                    <div class=\"medium-widget event-widget last\">', '                        ', '                        <div class=\"shrubbery\">', '                        ', '                            <h2 class=\"widget-title\"><span aria-hidden=\"true\" class=\"icon-calendar\"></span>Upcoming Events</h2>', '                            <p class=\"give-me-more\"><a href=\"/events/calendars/\" title=\"More Events\">More</a></p>', '                            ', '                            <ul class=\"menu\">', '                                ', '                                ', '                                ', '                                <li>', '<time datetime=\"2025-01-16T16:15:00+00:00\"><span class=\"say-no-more\">2025-</span>01-16</time>', ' <a href=\"/events/python-user-group/1880/\"> PyLadies Amsterdam</a></li>', '                                ', '                                ', '                                ', '                                <li>', '<time datetime=\"2025-01-22T17:00:00+00:00\"><span class=\"say-no-more\">2025-</span>01-22</time>', ' <a href=\"/events/python-user-group/1855/\">Python Meeting Düsseldorf</a></li>', '                                ', '                                ', '                                ', '                                <li>', '<time datetime=\"2025-02-02T00:00:00+00:00\"><span class=\"say-no-more\">2025-</span>02-02</time>', ' <a href=\"/events/python-events/1866/\">Python devroom @ FOSDEM 2025</a></li>', '                                ', '                                ', '                                ', '                                <li>', '<time datetime=\"2025-02-15T00:00:00+00:00\"><span class=\"say-no-more\">2025-</span>02-15</time>', ' <a href=\"/events/python-user-group/1841/\">Python Barcamp Karlsruhe 2025</a></li>', '                                ', '                                ', '                                ', '                                <li>', '<time datetime=\"2025-02-21T00:00:00+00:00\"><span class=\"say-no-more\">2025-</span>02-21</time>', ' <a href=\"/events/python-user-group/1868/\">Django Girls Koforidua</a></li>', '                                ', '                                ', '                            </ul>', '                        </div>', '', '                    </div>', '', '                </div>', '', '                <div class=\"row\">', '', '                    <div class=\"medium-widget success-stories-widget\">', '                        ', '', '', '', '                        <div class=\"shrubbery\">', '                            ', '', '                            <h2 class=\"widget-title\"><span aria-hidden=\"true\" class=\"icon-success-stories\"></span>Success Stories</h2>', '                            <p class=\"give-me-more\"><a href=\"/success-stories/\" title=\"More Success Stories\">More</a></p>', '', '                            ', '                            <div class=\"success-story-item\" id=\"success-story-1211\">', '', '                            <blockquote>', '                                <a href=\"/success-stories/reimagining-data-science-with-python-based-operators-in-einblicks-visual-canvas/\">Einblick reimagines the modern data science workflow in a collaborative data science canvas, rather than a linear notebook. Working in a canvas environment offers many advantages including live collaboration, an expansive visual interface, and a progressive computation engine. In this article, we’ll highlight one of the key ways we’re saving data scientists time–our operators. We’ll go through a couple of our core operators, why Python is such a crucial part of our software solution, and how we augmented our offerings with a user operator interface. The latter allows users to customize and use their own operators, which can be used in any Einblick canvas, and shared with other Einblick users.</a>', '                            </blockquote>', '', '                            <table cellpadding=\"0\" cellspacing=\"0\" border=\"0\" width=\"100%\" class=\"quote-from\">', '                                <tbody>', '                                    <tr>', '                                        ', '                                        <td><p><a href=\"/success-stories/reimagining-data-science-with-python-based-operators-in-einblicks-visual-canvas/\">Reimagining data science with Python-based operators in Einblick’s visual canvas</a> <em>by Becca Weng</em></p></td>', '                                    </tr>', '                                </tbody>', '                            </table>', '                            </div>', '                            ', '', '                        </div><!-- end .shrubbery -->', '', '                    </div>', '', '                    <div class=\"medium-widget applications-widget last\">', '                        <div class=\"shrubbery\">', '                            <h2 class=\"widget-title\"><span aria-hidden=\"true\" class=\"icon-python\"></span>Use Python for&hellip;</h2>', '<p class=\"give-me-more\"><a href=\"/about/apps\" title=\"More Applications\">More</a></p>', '', '<ul class=\"menu\">', '    <li><b>Web Development</b>:', '        <span class=\"tag-wrapper\"><a class=\"tag\" href=\"http://www.djangoproject.com/\">Django</a>, <a class=\"tag\" href=\"http://www.pylonsproject.org/\">Pyramid</a>, <a class=\"tag\" href=\"http://bottlepy.org\">Bottle</a>, <a class=\"tag\" href=\"http://tornadoweb.org\">Tornado</a>, <a href=\"http://flask.pocoo.org/\" class=\"tag\">Flask</a>, <a class=\"tag\" href=\"http://www.web2py.com/\">web2py</a></span></li>', '    <li><b>GUI Development</b>:', '        <span class=\"tag-wrapper\"><a class=\"tag\" href=\"http://wiki.python.org/moin/TkInter\">tkInter</a>, <a class=\"tag\" href=\"https://wiki.gnome.org/Projects/PyGObject\">PyGObject</a>, <a class=\"tag\" href=\"http://www.riverbankcomputing.co.uk/software/pyqt/intro\">PyQt</a>, <a class=\"tag\" href=\"https://wiki.qt.io/PySide\">PySide</a>, <a class=\"tag\" href=\"https://kivy.org/\">Kivy</a>, <a class=\"tag\" href=\"http://www.wxpython.org/\">wxPython</a>, <a class=\"tag\" href=\"https://dearpygui.readthedocs.io/en/latest/\">DearPyGui</a></span></li>', '    <li><b>Scientific and Numeric</b>:', '        <span class=\"tag-wrapper\">', '<a class=\"tag\" href=\"http://www.scipy.org\">SciPy</a>, <a class=\"tag\" href=\"http://pandas.pydata.org/\">Pandas</a>, <a href=\"http://ipython.org\" class=\"tag\">IPython</a></span></li>', '    <li><b>Software Development</b>:', '        <span class=\"tag-wrapper\"><a class=\"tag\" href=\"http://buildbot.net/\">Buildbot</a>, <a class=\"tag\" href=\"http://trac.edgewall.org/\">Trac</a>, <a class=\"tag\" href=\"http://roundup.sourceforge.net/\">Roundup</a></span></li>', '    <li><b>System Administration</b>:', '        <span class=\"tag-wrapper\"><a class=\"tag\" href=\"http://www.ansible.com\">Ansible</a>, <a class=\"tag\" href=\"https://saltproject.io\">Salt</a>, <a class=\"tag\" href=\"https://www.openstack.org\">OpenStack</a>, <a class=\"tag\" href=\"https://xon.sh\">xonsh</a></span></li>', '</ul>', '                        </div><!-- end .shrubbery -->', '                    </div>', '', '                </div>', '', '                                <div class=\"psf-widget\">', '', '                    <div class=\"python-logo\"></div>', '                    ', '                    <h2 class=\"widget-title\">', '    <span class=\"prompt\">&gt;&gt;&gt;</span> <a href=\"/psf/\">Python Software Foundation</a>', '</h2>', '<p>The mission of the Python Software Foundation is to promote, protect, and advance the Python programming language, and to support and facilitate the growth of a diverse and international community of Python programmers. <a class=\"readmore\" href=\"/psf/\">Learn more</a> </p>', '<p class=\"click-these\">', '    <a class=\"button\" href=\"/users/membership/\">Become a Member</a>', '    <a class=\"button\" href=\"/psf/donations/\">Donate to the PSF</a>', '</p>', '                </div>', '', '', '', '', '                </section>', '', '                ', '                ', '', '                ', '                ', '', '', '            </div><!-- end .container -->', '        </div><!-- end #content .content-wrapper -->', '', '        <!-- Footer and social media list -->', '        ', '        <footer id=\"site-map\" class=\"main-footer\" role=\"contentinfo\">', '            <div class=\"main-footer-links\">', '                <div class=\"container\">', '', '                    ', '                    <a id=\"back-to-top-1\" class=\"jump-link\" href=\"#python-network\"><span aria-hidden=\"true\" class=\"icon-arrow-up\"><span>&#9650;</span></span> Back to Top</a>', '', '                    ', '', '<ul class=\"sitemap navigation menu do-not-print\" role=\"tree\" id=\"container\">', '    ', '    <li class=\"tier-1 element-1\">', '        <a href=\"/about/\" >About</a>', '        ', '            ', '', '<ul class=\"subnav menu\">', '    ', '        <li class=\"tier-2 element-1\" role=\"treeitem\"><a href=\"/about/apps/\" title=\"\">Applications</a></li>', '    ', '        <li class=\"tier-2 element-2\" role=\"treeitem\"><a href=\"/about/quotes/\" title=\"\">Quotes</a></li>', '    ', '        <li class=\"tier-2 element-3\" role=\"treeitem\"><a href=\"/about/gettingstarted/\" title=\"\">Getting Started</a></li>', '    ', '        <li class=\"tier-2 element-4\" role=\"treeitem\"><a href=\"/about/help/\" title=\"\">Help</a></li>', '    ', '        <li class=\"tier-2 element-5\" role=\"treeitem\"><a href=\"http://brochure.getpython.info/\" title=\"\">Python Brochure</a></li>', '    ', '</ul>', '', '        ', '    </li>', '    ', '    <li class=\"tier-1 element-2\">', '        <a href=\"/downloads/\" >Downloads</a>', '        ', '            ', '', '<ul class=\"subnav menu\">', '    ', '        <li class=\"tier-2 element-1\" role=\"treeitem\"><a href=\"/downloads/\" title=\"\">All releases</a></li>', '    ', '        <li class=\"tier-2 element-2\" role=\"treeitem\"><a href=\"/downloads/source/\" title=\"\">Source code</a></li>', '    ', '        <li class=\"tier-2 element-3\" role=\"treeitem\"><a href=\"/downloads/windows/\" title=\"\">Windows</a></li>', '    ', '        <li class=\"tier-2 element-4\" role=\"treeitem\"><a href=\"/downloads/macos/\" title=\"\">macOS</a></li>', '    ', '        <li class=\"tier-2 element-5\" role=\"treeitem\"><a href=\"/download/other/\" title=\"\">Other Platforms</a></li>', '    ', '        <li class=\"tier-2 element-6\" role=\"treeitem\"><a href=\"https://docs.python.org/3/license.html\" title=\"\">License</a></li>', '    ', '        <li class=\"tier-2 element-7\" role=\"treeitem\"><a href=\"/download/alternatives\" title=\"\">Alternative Implementations</a></li>', '    ', '</ul>', '', '        ', '    </li>', '    ', '    <li class=\"tier-1 element-3\">', '        <a href=\"/doc/\" >Documentation</a>', '        ', '            ', '', '<ul class=\"subnav menu\">', '    ', '        <li class=\"tier-2 element-1\" role=\"treeitem\"><a href=\"/doc/\" title=\"\">Docs</a></li>', '    ', '        <li class=\"tier-2 element-2\" role=\"treeitem\"><a href=\"/doc/av\" title=\"\">Audio/Visual Talks</a></li>', '    ', '        <li class=\"tier-2 element-3\" role=\"treeitem\"><a href=\"https://wiki.python.org/moin/BeginnersGuide\" title=\"\">Beginner&#x27;s Guide</a></li>', '    ', '        <li class=\"tier-2 element-4\" role=\"treeitem\"><a href=\"https://devguide.python.org/\" title=\"\">Developer&#x27;s Guide</a></li>', '    ', '        <li class=\"tier-2 element-5\" role=\"treeitem\"><a href=\"https://docs.python.org/faq/\" title=\"\">FAQ</a></li>', '    ', '        <li class=\"tier-2 element-6\" role=\"treeitem\"><a href=\"http://wiki.python.org/moin/Languages\" title=\"\">Non-English Docs</a></li>', '    ', '        <li class=\"tier-2 element-7\" role=\"treeitem\"><a href=\"https://peps.python.org\" title=\"\">PEP Index</a></li>', '    ', '        <li class=\"tier-2 element-8\" role=\"treeitem\"><a href=\"https://wiki.python.org/moin/PythonBooks\" title=\"\">Python Books</a></li>', '    ', '        <li class=\"tier-2 element-9\" role=\"treeitem\"><a href=\"/doc/essays/\" title=\"\">Python Essays</a></li>', '    ', '</ul>', '', '        ', '    </li>', '    ', '    <li class=\"tier-1 element-4\">', '        <a href=\"/community/\" >Community</a>', '        ', '            ', '', '<ul class=\"subnav menu\">', '    ', '        <li class=\"tier-2 element-1\" role=\"treeitem\"><a href=\"/community/diversity/\" title=\"\">Diversity</a></li>', '    ', '        <li class=\"tier-2 element-2\" role=\"treeitem\"><a href=\"/community/lists/\" title=\"\">Mailing Lists</a></li>', '    ', '        <li class=\"tier-2 element-3\" role=\"treeitem\"><a href=\"/community/irc/\" title=\"\">IRC</a></li>', '    ', '        <li class=\"tier-2 element-4\" role=\"treeitem\"><a href=\"/community/forums/\" title=\"\">Forums</a></li>', '    ', '        <li class=\"tier-2 element-5\" role=\"treeitem\"><a href=\"/psf/annual-report/2021/\" title=\"\">PSF Annual Impact Report</a></li>', '    ', '        <li class=\"tier-2 element-6\" role=\"treeitem\"><a href=\"/community/workshops/\" title=\"\">Python Conferences</a></li>', '    ', '        <li class=\"tier-2 element-7\" role=\"treeitem\"><a href=\"/community/sigs/\" title=\"\">Special Interest Groups</a></li>', '    ', '        <li class=\"tier-2 element-8\" role=\"treeitem\"><a href=\"/community/logos/\" title=\"\">Python Logo</a></li>', '    ', '        <li class=\"tier-2 element-9\" role=\"treeitem\"><a href=\"https://wiki.python.org/moin/\" title=\"\">Python Wiki</a></li>', '    ', '        <li class=\"tier-2 element-10\" role=\"treeitem\"><a href=\"/psf/conduct/\" title=\"\">Code of Conduct</a></li>', '    ', '        <li class=\"tier-2 element-11\" role=\"treeitem\"><a href=\"/community/awards\" title=\"\">Community Awards</a></li>', '    ', '        <li class=\"tier-2 element-12\" role=\"treeitem\"><a href=\"/psf/get-involved/\" title=\"\">Get Involved</a></li>', '    ', '        <li class=\"tier-2 element-13\" role=\"treeitem\"><a href=\"/psf/community-stories/\" title=\"\">Shared Stories</a></li>', '    ', '</ul>', '', '        ', '    </li>', '    ', '    <li class=\"tier-1 element-5\">', '        <a href=\"/success-stories/\" title=\"success-stories\">Success Stories</a>', '        ', '            ', '', '<ul class=\"subnav menu\">', '    ', '        <li class=\"tier-2 element-1\" role=\"treeitem\"><a href=\"/success-stories/category/arts/\" title=\"\">Arts</a></li>', '    ', '        <li class=\"tier-2 element-2\" role=\"treeitem\"><a href=\"/success-stories/category/business/\" title=\"\">Business</a></li>', '    ', '        <li class=\"tier-2 element-3\" role=\"treeitem\"><a href=\"/success-stories/category/education/\" title=\"\">Education</a></li>', '    ', '        <li class=\"tier-2 element-4\" role=\"treeitem\"><a href=\"/success-stories/category/engineering/\" title=\"\">Engineering</a></li>', '    ', '        <li class=\"tier-2 element-5\" role=\"treeitem\"><a href=\"/success-stories/category/government/\" title=\"\">Government</a></li>', '    ', '        <li class=\"tier-2 element-6\" role=\"treeitem\"><a href=\"/success-stories/category/scientific/\" title=\"\">Scientific</a></li>', '    ', '        <li class=\"tier-2 element-7\" role=\"treeitem\"><a href=\"/success-stories/category/software-development/\" title=\"\">Software Development</a></li>', '    ', '</ul>', '', '        ', '    </li>', '    ', '    <li class=\"tier-1 element-6\">', '        <a href=\"/blogs/\" title=\"News from around the Python world\">News</a>', '        ', '            ', '', '<ul class=\"subnav menu\">', '    ', '        <li class=\"tier-2 element-1\" role=\"treeitem\"><a href=\"/blogs/\" title=\"Python Insider Blog Posts\">Python News</a></li>', '    ', '        <li class=\"tier-2 element-2\" role=\"treeitem\"><a href=\"/psf/newsletter/\" title=\"Python Software Foundation Newsletter\">PSF Newsletter</a></li>', '    ', '        <li class=\"tier-2 element-3\" role=\"treeitem\"><a href=\"http://pyfound.blogspot.com/\" title=\"PSF Blog\">PSF News</a></li>', '    ', '        <li class=\"tier-2 element-4\" role=\"treeitem\"><a href=\"http://pycon.blogspot.com/\" title=\"PyCon Blog\">PyCon US News</a></li>', '    ', '        <li class=\"tier-2 element-5\" role=\"treeitem\"><a href=\"http://planetpython.org/\" title=\"Planet Python\">News from the Community</a></li>', '    ', '</ul>', '', '        ', '    </li>', '    ', '    <li class=\"tier-1 element-7\">', '        <a href=\"/events/\" >Events</a>', '        ', '            ', '', '<ul class=\"subnav menu\">', '    ', '        <li class=\"tier-2 element-1\" role=\"treeitem\"><a href=\"/events/python-events/\" title=\"\">Python Events</a></li>', '    ', '        <li class=\"tier-2 element-2\" role=\"treeitem\"><a href=\"/events/python-user-group/\" title=\"\">User Group Events</a></li>', '    ', '        <li class=\"tier-2 element-3\" role=\"treeitem\"><a href=\"/events/python-events/past/\" title=\"\">Python Events Archive</a></li>', '    ', '        <li class=\"tier-2 element-4\" role=\"treeitem\"><a href=\"/events/python-user-group/past/\" title=\"\">User Group Events Archive</a></li>', '    ', '        <li class=\"tier-2 element-5\" role=\"treeitem\"><a href=\"https://wiki.python.org/moin/PythonEventsCalendar#Submitting_an_Event\" title=\"\">Submit an Event</a></li>', '    ', '</ul>', '', '        ', '    </li>', '    ', '    <li class=\"tier-1 element-8\">', '        <a href=\"/dev/\" >Contributing</a>', '        ', '            ', '', '<ul class=\"subnav menu\">', '    ', '        <li class=\"tier-2 element-1\" role=\"treeitem\"><a href=\"https://devguide.python.org/\" title=\"\">Developer&#x27;s Guide</a></li>', '    ', '        <li class=\"tier-2 element-2\" role=\"treeitem\"><a href=\"https://github.com/python/cpython/issues\" title=\"\">Issue Tracker</a></li>', '    ', '        <li class=\"tier-2 element-3\" role=\"treeitem\"><a href=\"https://mail.python.org/mailman/listinfo/python-dev\" title=\"\">python-dev list</a></li>', '    ', '        <li class=\"tier-2 element-4\" role=\"treeitem\"><a href=\"/dev/core-mentorship/\" title=\"\">Core Mentorship</a></li>', '    ', '        <li class=\"tier-2 element-5\" role=\"treeitem\"><a href=\"/dev/security/\" title=\"\">Report a Security Issue</a></li>', '    ', '</ul>', '', '        ', '    </li>', '    ', '</ul>', '', '', '                    <a id=\"back-to-top-2\" class=\"jump-link\" href=\"#python-network\"><span aria-hidden=\"true\" class=\"icon-arrow-up\"><span>&#9650;</span></span> Back to Top</a>', '                    ', '', '                </div><!-- end .container -->', '            </div> <!-- end .main-footer-links -->', '', '            <div class=\"site-base\">', '                <div class=\"container\">', '                    ', '                    <ul class=\"footer-links navigation menu do-not-print\" role=\"tree\">', '                        <li class=\"tier-1 element-1\"><a href=\"/about/help/\">Help &amp; <span class=\"say-no-more\">General</span> Contact</a></li>', '                        <li class=\"tier-1 element-2\"><a href=\"/community/diversity/\">Diversity <span class=\"say-no-more\">Initiatives</span></a></li>', '                        <li class=\"tier-1 element-3\"><a href=\"https://github.com/python/pythondotorg/issues\">Submit Website Bug</a></li>', '                        <li class=\"tier-1 element-4\">', '                            <a href=\"https://status.python.org/\">Status <span class=\"python-status-indicator-default\" id=\"python-status-indicator\"></span></a>', '                        </li>', '                    </ul>', '', '                    <div class=\"copyright\">', '                        <p><small>', '                            <span class=\"pre\">Copyright &copy;2001-2024.</span>', '                            &nbsp;<span class=\"pre\"><a href=\"/psf-landing/\">Python Software Foundation</a></span>', '                            &nbsp;<span class=\"pre\"><a href=\"/about/legal/\">Legal Statements</a></span>', '                            &nbsp;<span class=\"pre\"><a href=\"https://policies.python.org/python.org/Privacy-Notice/\">Privacy Notice</a></span>', '                            <!--&nbsp;<span class=\"pre\"><a href=\"/psf/community-infrastructure\">Powered by PSF Community Infrastructure</a></span>-->', '                        </small></p>', '                    </div>', '', '                </div><!-- end .container -->', '            </div><!-- end .site-base -->', '', '        </footer>', '        ', '', '    </div><!-- end #touchnav-wrapper -->', '', '    ', '    <script src=\"//ajax.googleapis.com/ajax/libs/jquery/1.8.2/jquery.min.js\"></script>', '    <script>window.jQuery || document.write(\\'<script src=\"/static/js/libs/jquery-1.8.2.min.js\"><\\\\/script>\\')</script>', '    <script src=\"//ajax.googleapis.com/ajax/libs/jqueryui/1.12.1/jquery-ui.min.js\"></script>', '    <script>window.jQuery || document.write(\\'<script src=\"/static/js/libs/jquery-ui-1.12.1.min.js\"><\\\\/script>\\')</script>', '', '    <script src=\"/static/js/libs/masonry.pkgd.min.js\"></script>', '    <script src=\"/static/js/libs/html-includes.js\"></script>', '', '    <script type=\"text/javascript\" src=\"/static/js/main-min.ef82c06437cf.js\" charset=\"utf-8\"></script>', '    ', '', '    <!--[if lte IE 7]>', '    <script type=\"text/javascript\" src=\"/static/js/plugins/IE8-min.8af6e26c7a3b.js\" charset=\"utf-8\"></script>', '    ', '    ', '    <![endif]-->', '', '    <!--[if lte IE 8]>', '    <script type=\"text/javascript\" src=\"/static/js/plugins/getComputedStyle-min.d41d8cd98f00.js\" charset=\"utf-8\"></script>', '    ', '    ', '    <![endif]-->', '', '    ', '', '    ', '    ', '', '</body>', '</html>']\n"
     ]
    }
   ],
   "source": [
    "print(response_a.read().decode('utf-8').splitlines())\n"
   ]
  },
  {
   "cell_type": "code",
   "execution_count": 7,
   "metadata": {},
   "outputs": [],
   "source": [
    "url_b='https://pypi.org/project/pycurl/'"
   ]
  },
  {
   "cell_type": "code",
   "execution_count": 8,
   "metadata": {},
   "outputs": [
    {
     "ename": "NameError",
     "evalue": "name 'request' is not defined",
     "output_type": "error",
     "traceback": [
      "\u001b[1;31m---------------------------------------------------------------------------\u001b[0m",
      "\u001b[1;31mNameError\u001b[0m                                 Traceback (most recent call last)",
      "Cell \u001b[1;32mIn[8], line 1\u001b[0m\n\u001b[1;32m----> 1\u001b[0m response_b\u001b[38;5;241m=\u001b[39mrequest\u001b[38;5;241m.\u001b[39murlopen(url_b)\n",
      "\u001b[1;31mNameError\u001b[0m: name 'request' is not defined"
     ]
    }
   ],
   "source": [
    "response_b=request.urlopen(url_b)"
   ]
  },
  {
   "cell_type": "code",
   "execution_count": 11,
   "metadata": {},
   "outputs": [
    {
     "ename": "NameError",
     "evalue": "name 'response' is not defined",
     "output_type": "error",
     "traceback": [
      "\u001b[1;31m---------------------------------------------------------------------------\u001b[0m",
      "\u001b[1;31mNameError\u001b[0m                                 Traceback (most recent call last)",
      "Cell \u001b[1;32mIn[11], line 1\u001b[0m\n\u001b[1;32m----> 1\u001b[0m file_size \u001b[38;5;241m=\u001b[39m \u001b[38;5;28mint\u001b[39m(response\u001b[38;5;241m.\u001b[39mheaders\u001b[38;5;241m.\u001b[39mget(\u001b[38;5;124m'\u001b[39m\u001b[38;5;124mContent-Length\u001b[39m\u001b[38;5;124m'\u001b[39m, \u001b[38;5;241m0\u001b[39m))\n\u001b[0;32m      2\u001b[0m \u001b[38;5;28mprint\u001b[39m(\u001b[38;5;124mf\u001b[39m\u001b[38;5;124m\"\u001b[39m\u001b[38;5;124mFile size: \u001b[39m\u001b[38;5;132;01m{\u001b[39;00mfile_size\u001b[38;5;250m \u001b[39m\u001b[38;5;241m/\u001b[39m\u001b[38;5;250m \u001b[39m(\u001b[38;5;241m1024\u001b[39m\u001b[38;5;250m \u001b[39m\u001b[38;5;241m*\u001b[39m\u001b[38;5;250m \u001b[39m\u001b[38;5;241m1024\u001b[39m)\u001b[38;5;132;01m}\u001b[39;00m\u001b[38;5;124m MB\u001b[39m\u001b[38;5;124m\"\u001b[39m)\n",
      "\u001b[1;31mNameError\u001b[0m: name 'response' is not defined"
     ]
    }
   ],
   "source": [
    "\n",
    "file_size = int(response.headers.get('Content-Length', 0))\n",
    "print(f\"File size: {file_size / (1024 * 1024)} MB\")"
   ]
  },
  {
   "cell_type": "code",
   "execution_count": 44,
   "metadata": {},
   "outputs": [
    {
     "data": {
      "text/plain": [
       "b'<!DOCTYPE html>\\n<html>\\n  <head>\\n    <meta\\n      http-equiv=\"Content-Security-Policy\"\\n      content=\"default-src \\'self\\'; img-src \\'self\\' data:; media-src \\'self\\' data:; object-src \\'none\\'; style-src \\'self\\' \\'sha256-o4vzfmmUENEg4chMjjRP9EuW9ucGnGIGVdbl8d0SHQQ=\\'; script-src \\'self\\' \\'sha256-a9bHdQGvRzDwDVzx8m+Rzw+0FHZad8L0zjtBwkxOIz4=\\';\"\\n    />\\n    <link\\n      href=\"/_fs-ch-1T1wmsGaOgGaSxcX/assets/inter-var.woff2\"\\n      rel=\"preload\"\\n      as=\"font\"\\n      type=\"font/woff2\"\\n      crossorigin\\n    />\\n    <link href=\"/_fs-ch-1T1wmsGaOgGaSxcX/assets/styles.css\" rel=\"stylesheet\" />\\n    <meta\\n      name=\"viewport\"\\n      content=\"width=device-width, initial-scale=1, maximum-scale=1\"\\n    />\\n    <style>\\n      #loading-error {\\n        font-size: 16px;\\n        font-family: \\'Inter\\', sans-serif;\\n        margin-top: 10px;\\n        margin-left: 10px;\\n        display: none;\\n      }\\n    </style>\\n  </head>\\n  <body>\\n    <noscript>\\n      <div class=\"noscript-container\">\\n        <div class=\"noscript-content\">\\n          <img\\n            src=\"/_fs-ch-1T1wmsGaOgGaSxcX/assets/errorIcon.svg\"\\n            alt=\"Error Icon\"\\n            class=\"error-icon\"\\n          />\\n          <span class=\"noscript-span\"\\n            >JavaScript is disabled in your browser.</span\\n          >\\n          Please enable JavaScript to proceed.\\n        </div>\\n      </div>\\n    </noscript>\\n    <div id=\"loading-error\">\\n      A required part of this site couldn\\xe2\\x80\\x99t load. This may be due to a browser\\n      extension, network issues, or browser settings. Please check your\\n      connection, disable any ad blockers, or try using a different browser.\\n    </div>\\n    <script>\\n      function loadScript(src) {\\n        return new Promise((resolve, reject) => {\\n          const script = document.createElement(\\'script\\');\\n          script.onload = resolve;\\n          script.onerror = (event) => {\\n            console.error(\\'Script load error event:\\', event);\\n            document.getElementById(\\'loading-error\\').style.display = \\'block\\';\\n            reject(\\n              new Error(\\n                `Failed to load script: ${src}, Please contact the service administrator.`\\n              )\\n            );\\n          };\\n          script.src = src;\\n          document.body.appendChild(script);\\n        });\\n      }\\n\\n      loadScript(\\'/_fs-ch-1T1wmsGaOgGaSxcX/errors.js\\')\\n        .then(() => {\\n          const script = document.createElement(\\'script\\');\\n          script.src = \\'/_fs-ch-1T1wmsGaOgGaSxcX/script.js?reload=true\\';\\n          script.onerror = (event) => {\\n            console.error(\\'Script load error event:\\', event);\\n            const errorMsg = new Error(\\n              `Failed to load script: ${script.src}. Please contact the service administrator.`\\n            );\\n            console.error(errorMsg);\\n            handleScriptError();\\n          };\\n          document.body.appendChild(script);\\n        })\\n        .catch((error) => {\\n          console.error(error);\\n        });\\n    </script>\\n  </body>\\n</html>\\n'"
      ]
     },
     "execution_count": 44,
     "metadata": {},
     "output_type": "execute_result"
    }
   ],
   "source": [
    "response_b.read()"
   ]
  },
  {
   "cell_type": "code",
   "execution_count": 17,
   "metadata": {},
   "outputs": [
    {
     "data": {
      "text/plain": [
       "requests.models.Response"
      ]
     },
     "execution_count": 17,
     "metadata": {},
     "output_type": "execute_result"
    }
   ],
   "source": [
    "import requests\n",
    "link=\"https://requests.readthedocs.io/\"\n",
    "response = requests.get(link)    #making HTTP Request to link\n",
    "type(response)"
   ]
  },
  {
   "cell_type": "code",
   "execution_count": 18,
   "metadata": {},
   "outputs": [
    {
     "data": {
      "text/plain": [
       "<Response [200]>"
      ]
     },
     "execution_count": 18,
     "metadata": {},
     "output_type": "execute_result"
    }
   ],
   "source": [
    "response"
   ]
  },
  {
   "cell_type": "code",
   "execution_count": 19,
   "metadata": {},
   "outputs": [
    {
     "data": {
      "text/plain": [
       "200"
      ]
     },
     "execution_count": 19,
     "metadata": {},
     "output_type": "execute_result"
    }
   ],
   "source": [
    "response.status_code"
   ]
  },
  {
   "cell_type": "code",
   "execution_count": 20,
   "metadata": {},
   "outputs": [
    {
     "data": {
      "text/plain": [
       "True"
      ]
     },
     "execution_count": 20,
     "metadata": {},
     "output_type": "execute_result"
    }
   ],
   "source": [
    "response.status_code==requests.codes.OK"
   ]
  },
  {
   "cell_type": "code",
   "execution_count": 21,
   "metadata": {},
   "outputs": [
    {
     "data": {
      "text/plain": [
       "'https://requests.readthedocs.io/en/latest/'"
      ]
     },
     "execution_count": 21,
     "metadata": {},
     "output_type": "execute_result"
    }
   ],
   "source": [
    "response.url"
   ]
  },
  {
   "cell_type": "code",
   "execution_count": 22,
   "metadata": {},
   "outputs": [
    {
     "data": {
      "text/plain": [
       "[<Response [302]>]"
      ]
     },
     "execution_count": 22,
     "metadata": {},
     "output_type": "execute_result"
    }
   ],
   "source": [
    "\n",
    "response.history"
   ]
  },
  {
   "cell_type": "code",
   "execution_count": 23,
   "metadata": {},
   "outputs": [
    {
     "data": {
      "text/plain": [
       "'utf-8'"
      ]
     },
     "execution_count": 23,
     "metadata": {},
     "output_type": "execute_result"
    }
   ],
   "source": [
    "response.encoding"
   ]
  },
  {
   "cell_type": "code",
   "execution_count": 25,
   "metadata": {},
   "outputs": [
    {
     "data": {
      "text/plain": [
       "{'User-Agent': 'python-requests/2.31.0', 'Accept-Encoding': 'gzip, deflate, br, zstd', 'Accept': '*/*', 'Connection': 'keep-alive', 'Cookie': '_cfuvid=ux68MTi4tG4RJyKzSOtuG0l5hSzgmwxFHfBfzjq9yzA-1734934661282-0.0.1.1-604800000'}"
      ]
     },
     "execution_count": 25,
     "metadata": {},
     "output_type": "execute_result"
    }
   ],
   "source": [
    "response.request.headers"
   ]
  },
  {
   "cell_type": "code",
   "execution_count": 26,
   "metadata": {},
   "outputs": [
    {
     "data": {
      "text/plain": [
       "'W/\"715dee4405bf186850fd9935935e0edd\"'"
      ]
     },
     "execution_count": 26,
     "metadata": {},
     "output_type": "execute_result"
    }
   ],
   "source": [
    "response.headers['ETag']"
   ]
  },
  {
   "cell_type": "code",
   "execution_count": 27,
   "metadata": {},
   "outputs": [
    {
     "data": {
      "text/plain": [
       "<RequestsCookieJar[]>"
      ]
     },
     "execution_count": 27,
     "metadata": {},
     "output_type": "execute_result"
    }
   ],
   "source": [
    "response.cookies"
   ]
  },
  {
   "cell_type": "code",
   "execution_count": 28,
   "metadata": {},
   "outputs": [],
   "source": [
    "response_github = requests.get('https://www.github.com/anishchapagain')"
   ]
  },
  {
   "cell_type": "code",
   "execution_count": 29,
   "metadata": {},
   "outputs": [
    {
     "data": {
      "text/plain": [
       "<RequestsCookieJar[Cookie(version=0, name='_gh_sess', value='NAPbH3jawbINa%2F0fz4NWj%2FSTc0SYR51riSRq%2FquasU6n1NweBr6tUCC5KJ1wQQCXN6F0As5dXG%2FQ7U6huWcNs1jSTz9aWrA9tz9CYj9tU9nCwcQSgpNqOQN%2Bd369AqSk6EEcWLxex2z3KKS9cNg7ajljHQO40q9fhILfLNsYMxwThfsxNUjthkuamN8xxpywoB8ObS8HkVdturCl34UXSa1g%2F4t8mkJh0xCZEyUGa3LgYx6OSSRq2c5kgFIn7YFfrDp6rBCImwyGBgjFauYyLQ%3D%3D--1CoYUeIXv14724Pa--Y6bNiX6EMhh8LzzKNIXUgg%3D%3D', port=None, port_specified=False, domain='github.com', domain_specified=False, domain_initial_dot=False, path='/', path_specified=True, secure=True, expires=None, discard=True, comment=None, comment_url=None, rest={'HttpOnly': None, 'SameSite': 'Lax'}, rfc2109=False), Cookie(version=0, name='_octo', value='GH1.1.459592361.1734935202', port=None, port_specified=False, domain='.github.com', domain_specified=True, domain_initial_dot=False, path='/', path_specified=True, secure=True, expires=1766471202, discard=False, comment=None, comment_url=None, rest={'SameSite': 'Lax'}, rfc2109=False), Cookie(version=0, name='logged_in', value='no', port=None, port_specified=False, domain='.github.com', domain_specified=True, domain_initial_dot=False, path='/', path_specified=True, secure=True, expires=1766471202, discard=False, comment=None, comment_url=None, rest={'HttpOnly': None, 'SameSite': 'Lax'}, rfc2109=False)]>"
      ]
     },
     "execution_count": 29,
     "metadata": {},
     "output_type": "execute_result"
    }
   ],
   "source": [
    "response_github.cookies"
   ]
  },
  {
   "cell_type": "code",
   "execution_count": 30,
   "metadata": {},
   "outputs": [
    {
     "name": "stdout",
     "output_type": "stream",
     "text": [
      "_gh_sess  :  NAPbH3jawbINa%2F0fz4NWj%2FSTc0SYR51riSRq%2FquasU6n1NweBr6tUCC5KJ1wQQCXN6F0As5dXG%2FQ7U6huWcNs1jSTz9aWrA9tz9CYj9tU9nCwcQSgpNqOQN%2Bd369AqSk6EEcWLxex2z3KKS9cNg7ajljHQO40q9fhILfLNsYMxwThfsxNUjthkuamN8xxpywoB8ObS8HkVdturCl34UXSa1g%2F4t8mkJh0xCZEyUGa3LgYx6OSSRq2c5kgFIn7YFfrDp6rBCImwyGBgjFauYyLQ%3D%3D--1CoYUeIXv14724Pa--Y6bNiX6EMhh8LzzKNIXUgg%3D%3D\n"
     ]
    }
   ],
   "source": [
    "for cookie in response_github.cookies:\n",
    "    if cookie.domain=='github.com':\n",
    "        print(cookie.name,' : ',cookie.value)\n",
    "        break"
   ]
  },
  {
   "cell_type": "code",
   "execution_count": 31,
   "metadata": {},
   "outputs": [
    {
     "data": {
      "text/plain": [
       "{'name': 'somedomain', 'path': '/'}"
      ]
     },
     "execution_count": 31,
     "metadata": {},
     "output_type": "execute_result"
    }
   ],
   "source": [
    "cookies = dict(name='somedomain', path='/') #dictionary\n",
    "cookies\n",
    "#responseA = requests.get(someurl, cookies=cookies)"
   ]
  },
  {
   "cell_type": "code",
   "execution_count": 33,
   "metadata": {},
   "outputs": [
    {
     "data": {
      "text/plain": [
       "<RequestsCookieJar[Cookie(version=0, name='some_name', value='some_value', port=None, port_specified=False, domain='some_domain.com', domain_specified=True, domain_initial_dot=False, path='/secureHttps', path_specified=True, secure=False, expires=None, discard=True, comment=None, comment_url=None, rest={'HttpOnly': None}, rfc2109=False)]>"
      ]
     },
     "execution_count": 33,
     "metadata": {},
     "output_type": "execute_result"
    }
   ],
   "source": [
    "cookiesJar = requests.cookies.RequestsCookieJar() #Jar: key,value,domain,path\n",
    "cookiesJar.set('some_name', 'some_value', domain='some_domain.com', path='/secureHttps')\n",
    "cookiesJar\n",
    "#responseB = requests.get(someurl, cookies=cookiesJar)"
   ]
  },
  {
   "cell_type": "code",
   "execution_count": 34,
   "metadata": {},
   "outputs": [],
   "source": [
    "session = requests.Session()"
   ]
  },
  {
   "cell_type": "code",
   "execution_count": 35,
   "metadata": {},
   "outputs": [
    {
     "data": {
      "text/plain": [
       "<requests.sessions.Session at 0x15c1cba7410>"
      ]
     },
     "execution_count": 35,
     "metadata": {},
     "output_type": "execute_result"
    }
   ],
   "source": [
    "session"
   ]
  },
  {
   "cell_type": "code",
   "execution_count": 36,
   "metadata": {},
   "outputs": [
    {
     "data": {
      "text/plain": [
       "<RequestsCookieJar[]>"
      ]
     },
     "execution_count": 36,
     "metadata": {},
     "output_type": "execute_result"
    }
   ],
   "source": [
    "session.cookies"
   ]
  },
  {
   "cell_type": "code",
   "execution_count": 37,
   "metadata": {},
   "outputs": [],
   "source": [
    "session_obj = requests.Session()"
   ]
  },
  {
   "cell_type": "code",
   "execution_count": 38,
   "metadata": {},
   "outputs": [
    {
     "data": {
      "text/plain": [
       "'{\\n  \"cookies\": {\\n    \"date\": \"30-dec-2022\", \\n    \"name\": \"anishchapagain\"\\n  }\\n}\\n'"
      ]
     },
     "execution_count": 38,
     "metadata": {},
     "output_type": "execute_result"
    }
   ],
   "source": [
    "response_obj = session_obj.get('https://httpbin.org/cookies', cookies={'name': 'anishchapagain','date':'30-dec-2022'})\n",
    "response_obj.text"
   ]
  },
  {
   "cell_type": "code",
   "execution_count": 39,
   "metadata": {},
   "outputs": [
    {
     "data": {
      "text/plain": [
       "{'Date': 'Mon, 23 Dec 2024 06:36:20 GMT', 'Content-Type': 'application/json', 'Content-Length': '80', 'Connection': 'keep-alive', 'Server': 'gunicorn/19.9.0', 'Access-Control-Allow-Origin': '*', 'Access-Control-Allow-Credentials': 'true'}"
      ]
     },
     "execution_count": 39,
     "metadata": {},
     "output_type": "execute_result"
    }
   ],
   "source": [
    "response_obj.headers"
   ]
  },
  {
   "cell_type": "code",
   "execution_count": 40,
   "metadata": {},
   "outputs": [
    {
     "data": {
      "text/plain": [
       "'{\\n  \"cookies\": {}\\n}\\n'"
      ]
     },
     "execution_count": 40,
     "metadata": {},
     "output_type": "execute_result"
    }
   ],
   "source": [
    "response_test = session_obj.get('https://httpbin.org/cookies')\n",
    "response_test.text"
   ]
  },
  {
   "cell_type": "code",
   "execution_count": 41,
   "metadata": {},
   "outputs": [
    {
     "data": {
      "text/plain": [
       "{'Date': 'Mon, 23 Dec 2024 06:37:12 GMT', 'Content-Type': 'application/json', 'Content-Length': '20', 'Connection': 'keep-alive', 'Server': 'gunicorn/19.9.0', 'Access-Control-Allow-Origin': '*', 'Access-Control-Allow-Credentials': 'true'}"
      ]
     },
     "execution_count": 41,
     "metadata": {},
     "output_type": "execute_result"
    }
   ],
   "source": [
    "response_test.headers"
   ]
  },
  {
   "cell_type": "code",
   "execution_count": null,
   "metadata": {},
   "outputs": [],
   "source": []
  }
 ],
 "metadata": {
  "kernelspec": {
   "display_name": "base",
   "language": "python",
   "name": "python3"
  },
  "language_info": {
   "codemirror_mode": {
    "name": "ipython",
    "version": 3
   },
   "file_extension": ".py",
   "mimetype": "text/x-python",
   "name": "python",
   "nbconvert_exporter": "python",
   "pygments_lexer": "ipython3",
   "version": "3.11.7"
  }
 },
 "nbformat": 4,
 "nbformat_minor": 2
}
