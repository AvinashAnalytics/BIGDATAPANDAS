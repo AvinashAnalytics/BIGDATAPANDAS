{
 "cells": [
  {
   "cell_type": "code",
   "execution_count": 6,
   "metadata": {},
   "outputs": [],
   "source": [
    "import pandas as pd"
   ]
  },
  {
   "cell_type": "code",
   "execution_count": 4,
   "metadata": {},
   "outputs": [],
   "source": [
    "import urllib\n",
    "import requests\n",
    "import pycurl"
   ]
  },
  {
   "cell_type": "code",
   "execution_count": 3,
   "metadata": {},
   "outputs": [
    {
     "name": "stdout",
     "output_type": "stream",
     "text": [
      "Requirement already satisfied: requests in d:\\anaconda3\\lib\\site-packages (2.31.0)\n",
      "Requirement already satisfied: charset-normalizer<4,>=2 in d:\\anaconda3\\lib\\site-packages (from requests) (2.0.4)\n",
      "Requirement already satisfied: idna<4,>=2.5 in d:\\anaconda3\\lib\\site-packages (from requests) (3.4)\n",
      "Requirement already satisfied: urllib3<3,>=1.21.1 in d:\\anaconda3\\lib\\site-packages (from requests) (2.0.7)\n",
      "Requirement already satisfied: certifi>=2017.4.17 in d:\\anaconda3\\lib\\site-packages (from requests) (2024.2.2)\n",
      "Note: you may need to restart the kernel to use updated packages.\n"
     ]
    }
   ],
   "source": [
    "pip install requests"
   ]
  },
  {
   "cell_type": "code",
   "execution_count": 5,
   "metadata": {},
   "outputs": [
    {
     "data": {
      "text/plain": [
       "'2.31.0'"
      ]
     },
     "execution_count": 5,
     "metadata": {},
     "output_type": "execute_result"
    }
   ],
   "source": [
    "requests.__version__"
   ]
  },
  {
   "cell_type": "code",
   "execution_count": 6,
   "metadata": {},
   "outputs": [
    {
     "data": {
      "text/plain": [
       "['__builtins__',\n",
       " '__cached__',\n",
       " '__doc__',\n",
       " '__file__',\n",
       " '__loader__',\n",
       " '__name__',\n",
       " '__package__',\n",
       " '__path__',\n",
       " '__spec__',\n",
       " 'error',\n",
       " 'parse',\n",
       " 'request',\n",
       " 'response']"
      ]
     },
     "execution_count": 6,
     "metadata": {},
     "output_type": "execute_result"
    }
   ],
   "source": [
    "list(dir(urllib))"
   ]
  },
  {
   "cell_type": "code",
   "execution_count": null,
   "metadata": {},
   "outputs": [],
   "source": [
    "url_a='https://www.python.org/'"
   ]
  },
  {
   "cell_type": "code",
   "execution_count": 17,
   "metadata": {},
   "outputs": [],
   "source": [
    "df=pd.read_csv(r\"C:\\Users\\Avinash rai\\Downloads\\data.csv\")"
   ]
  },
  {
   "cell_type": "code",
   "execution_count": 7,
   "metadata": {},
   "outputs": [],
   "source": [
    "c=pd.read_csv(r\"C:\\Users\\Avinash rai\\Downloads\\BigMart Sales.csv\")\n"
   ]
  },
  {
   "cell_type": "code",
   "execution_count": 8,
   "metadata": {},
   "outputs": [
    {
     "data": {
      "text/plain": [
       "Item_Identifier                 0\n",
       "Item_Weight                  1463\n",
       "Item_Fat_Content                0\n",
       "Item_Visibility                 0\n",
       "Item_Type                       0\n",
       "Item_MRP                        0\n",
       "Outlet_Identifier               0\n",
       "Outlet_Establishment_Year       0\n",
       "Outlet_Size                  2410\n",
       "Outlet_Location_Type            0\n",
       "Outlet_Type                     0\n",
       "Item_Outlet_Sales               0\n",
       "dtype: int64"
      ]
     },
     "execution_count": 8,
     "metadata": {},
     "output_type": "execute_result"
    }
   ],
   "source": [
    "c.isnull().sum()"
   ]
  },
  {
   "cell_type": "code",
   "execution_count": 22,
   "metadata": {},
   "outputs": [
    {
     "data": {
      "text/plain": [
       "0       False\n",
       "1       False\n",
       "2       False\n",
       "3       False\n",
       "4       False\n",
       "        ...  \n",
       "8518    False\n",
       "8519    False\n",
       "8520    False\n",
       "8521    False\n",
       "8522    False\n",
       "Name: Item_Visibility, Length: 8523, dtype: bool"
      ]
     },
     "execution_count": 22,
     "metadata": {},
     "output_type": "execute_result"
    }
   ],
   "source": [
    "c['Item_Visibility'].isnull()"
   ]
  },
  {
   "cell_type": "code",
   "execution_count": 10,
   "metadata": {},
   "outputs": [
    {
     "name": "stdout",
     "output_type": "stream",
     "text": [
      "<class 'pandas.core.frame.DataFrame'>\n",
      "RangeIndex: 169 entries, 0 to 168\n",
      "Data columns (total 4 columns):\n",
      " #   Column    Non-Null Count  Dtype  \n",
      "---  ------    --------------  -----  \n",
      " 0   Duration  169 non-null    int64  \n",
      " 1   Pulse     169 non-null    int64  \n",
      " 2   Maxpulse  169 non-null    int64  \n",
      " 3   Calories  164 non-null    float64\n",
      "dtypes: float64(1), int64(3)\n",
      "memory usage: 5.4 KB\n"
     ]
    },
    {
     "data": {
      "text/plain": [
       "Duration    0\n",
       "Pulse       0\n",
       "Maxpulse    0\n",
       "Calories    5\n",
       "dtype: int64"
      ]
     },
     "execution_count": 10,
     "metadata": {},
     "output_type": "execute_result"
    }
   ],
   "source": [
    "\n",
    "df.info()\n",
    "df.isnull().sum()\n"
   ]
  },
  {
   "cell_type": "code",
   "execution_count": null,
   "metadata": {},
   "outputs": [],
   "source": [
    "newdf=df.fillna(111,inplace=True)"
   ]
  },
  {
   "cell_type": "code",
   "execution_count": 62,
   "metadata": {},
   "outputs": [
    {
     "name": "stdout",
     "output_type": "stream",
     "text": [
      "  name   age\n",
      "0    a   1.0\n",
      "1    b   2.0\n",
      "2    c   3.0\n",
      "3    d   NaN\n",
      "4    e   5.0\n",
      "5    f   6.0\n",
      "6    g   6.0\n",
      "7    h   8.0\n",
      "8    a   1.0\n",
      "9    j  10.0\n"
     ]
    },
    {
     "data": {
      "text/html": [
       "<div>\n",
       "<style scoped>\n",
       "    .dataframe tbody tr th:only-of-type {\n",
       "        vertical-align: middle;\n",
       "    }\n",
       "\n",
       "    .dataframe tbody tr th {\n",
       "        vertical-align: top;\n",
       "    }\n",
       "\n",
       "    .dataframe thead th {\n",
       "        text-align: right;\n",
       "    }\n",
       "</style>\n",
       "<table border=\"1\" class=\"dataframe\">\n",
       "  <thead>\n",
       "    <tr style=\"text-align: right;\">\n",
       "      <th></th>\n",
       "      <th>name</th>\n",
       "      <th>age</th>\n",
       "    </tr>\n",
       "  </thead>\n",
       "  <tbody>\n",
       "    <tr>\n",
       "      <th>0</th>\n",
       "      <td>a</td>\n",
       "      <td>1.0</td>\n",
       "    </tr>\n",
       "    <tr>\n",
       "      <th>1</th>\n",
       "      <td>b</td>\n",
       "      <td>2.0</td>\n",
       "    </tr>\n",
       "    <tr>\n",
       "      <th>2</th>\n",
       "      <td>c</td>\n",
       "      <td>3.0</td>\n",
       "    </tr>\n",
       "    <tr>\n",
       "      <th>3</th>\n",
       "      <td>d</td>\n",
       "      <td>4.0</td>\n",
       "    </tr>\n",
       "    <tr>\n",
       "      <th>4</th>\n",
       "      <td>e</td>\n",
       "      <td>5.0</td>\n",
       "    </tr>\n",
       "    <tr>\n",
       "      <th>5</th>\n",
       "      <td>f</td>\n",
       "      <td>6.0</td>\n",
       "    </tr>\n",
       "    <tr>\n",
       "      <th>6</th>\n",
       "      <td>g</td>\n",
       "      <td>6.0</td>\n",
       "    </tr>\n",
       "    <tr>\n",
       "      <th>7</th>\n",
       "      <td>h</td>\n",
       "      <td>8.0</td>\n",
       "    </tr>\n",
       "    <tr>\n",
       "      <th>8</th>\n",
       "      <td>a</td>\n",
       "      <td>1.0</td>\n",
       "    </tr>\n",
       "    <tr>\n",
       "      <th>9</th>\n",
       "      <td>j</td>\n",
       "      <td>10.0</td>\n",
       "    </tr>\n",
       "  </tbody>\n",
       "</table>\n",
       "</div>"
      ],
      "text/plain": [
       "  name   age\n",
       "0    a   1.0\n",
       "1    b   2.0\n",
       "2    c   3.0\n",
       "3    d   4.0\n",
       "4    e   5.0\n",
       "5    f   6.0\n",
       "6    g   6.0\n",
       "7    h   8.0\n",
       "8    a   1.0\n",
       "9    j  10.0"
      ]
     },
     "execution_count": 62,
     "metadata": {},
     "output_type": "execute_result"
    }
   ],
   "source": [
    "import pandas as pd\n",
    "age={'name':['a','b','c','d','e','f','g','h','a','j'],'age':[1,2,3,None,5,6,6,8,1,10]}\n",
    "df=pd.DataFrame(age)\n",
    "print(df)\n",
    "df['age']=df['age'].interpolate()\n",
    "df\n"
   ]
  },
  {
   "cell_type": "code",
   "execution_count": 63,
   "metadata": {},
   "outputs": [
    {
     "data": {
      "text/plain": [
       "0    False\n",
       "1    False\n",
       "2    False\n",
       "3    False\n",
       "4    False\n",
       "5    False\n",
       "6    False\n",
       "7    False\n",
       "8     True\n",
       "9    False\n",
       "dtype: bool"
      ]
     },
     "execution_count": 63,
     "metadata": {},
     "output_type": "execute_result"
    }
   ],
   "source": [
    "\n",
    "df.duplicated()"
   ]
  },
  {
   "cell_type": "code",
   "execution_count": null,
   "metadata": {},
   "outputs": [],
   "source": [
    "for xin "
   ]
  },
  {
   "cell_type": "code",
   "execution_count": 11,
   "metadata": {},
   "outputs": [
    {
     "name": "stderr",
     "output_type": "stream",
     "text": [
      "d:\\anaconda3\\Lib\\site-packages\\seaborn\\_oldcore.py:1119: FutureWarning: use_inf_as_na option is deprecated and will be removed in a future version. Convert inf values to NaN before operating instead.\n",
      "  with pd.option_context('mode.use_inf_as_na', True):\n"
     ]
    },
    {
     "data": {
      "text/plain": [
       "<Axes: ylabel='Count'>"
      ]
     },
     "execution_count": 11,
     "metadata": {},
     "output_type": "execute_result"
    },
    {
     "data": {
      "image/png": "[encoded data removed]",
      "text/plain": [
       "<Figure size 640x480 with 1 Axes>"
      ]
     },
     "metadata": {},
     "output_type": "display_data"
    }
   ],
   "source": [
    "import seaborn as sns\n",
    "sns.histplot(df,bins=3)"
   ]
  },
  {
   "cell_type": "code",
   "execution_count": 35,
   "metadata": {},
   "outputs": [
    {
     "data": {
      "text/plain": [
       "[<matplotlib.lines.Line2D at 0x27488b9d810>]"
      ]
     },
     "execution_count": 35,
     "metadata": {},
     "output_type": "execute_result"
    },
    {
     "data": {
      "image/png": "[encoded data removed]",
      "text/plain": [
       "<Figure size 640x480 with 1 Axes>"
      ]
     },
     "metadata": {},
     "output_type": "display_data"
    }
   ],
   "source": [
    "import numpy as np\n",
    "import matplotlib.pyplot as plt\n",
    "x=np.array([0,6])\n",
    "y=np.array([0,256])\n",
    "\n",
    "\n",
    "plt.plot(x,y,color='red',marker='o')\n",
    "\n"
   ]
  },
  {
   "cell_type": "code",
   "execution_count": 1,
   "metadata": {},
   "outputs": [
    {
     "data": {
      "image/png": "[encoded data removed]",
      "text/plain": [
       "<Figure size 640x480 with 1 Axes>"
      ]
     },
     "metadata": {},
     "output_type": "display_data"
    }
   ],
   "source": [
    "import matplotlib.pyplot as plt\n",
    "\n",
    "# Data for the first line (y-values)\n",
    "y1 = [10, 18, 14]\n",
    "\n",
    "# Data for the second line (y-values)\n",
    "y2 = [5, 12, 9]\n",
    "\n",
    "# Plot the first line (matplotlib will automatically use [0, 1, 2] as x-values)\n",
    "plt.plot(y1, 'o-', label='Line 1 (y1)')\n",
    "\n",
    "# Plot the second line (matplotlib will automatically use [0, 1, 2] as x-values)\n",
    "plt.plot(y2, 's--', label='Line 2 (y2)')\n",
    "\n",
    "# Add title and labels\n",
    "plt.title('Two Lines Plot with Default X-Axis')\n",
    "plt.xlabel('Index')\n",
    "plt.ylabel('Values')\n",
    "\n",
    "# Display the legend\n",
    "plt.legend(\n",
    "    loc='upper left',               # Position of the legend\n",
    "    fontsize='small',                # Font size of the legend\n",
    "    frameon=True,                    # Display a frame around the legend\n",
    "    facecolor='lightgray',           # Background color of the legend\n",
    "    edgecolor='black',               # Border color of the legend\n",
    "    fancybox=True,                   # Rounded corners for the legend box\n",
    "    shadow=True, \n",
    ")\n",
    "\n",
    "# Show the plot\n",
    "plt.show()\n"
   ]
  },
  {
   "cell_type": "code",
   "execution_count": 106,
   "metadata": {},
   "outputs": [
    {
     "data": {
      "image/png": "[encoded data removed]",
      "text/plain": [
       "<Figure size 640x480 with 1 Axes>"
      ]
     },
     "metadata": {},
     "output_type": "display_data"
    }
   ],
   "source": [
    "import matplotlib.pyplot as plt\n",
    "import numpy as np\n",
    "\n",
    "# Data for the first line (y-values)\n",
    "y1 = [10, 18, 14]\n",
    "\n",
    "# Data for the second line (y-values)\n",
    "y2 = [5, 12, 9]\n",
    "\n",
    "# Generate some 3D-like effect on plot lines by using colors and line styles\n",
    "fig = plt.figure()\n",
    "ax = fig.add_subplot(111)\n",
    "\n",
    "# Plot the first line (with blue color and a 3D-like shadow)\n",
    "ax.plot(y1, 'o-', label='Line 1 (y1)', color='blue', markersize=8, linewidth=2, zorder=2)\n",
    "\n",
    "# Plot the second line (with green color and a 3D-like shadow)\n",
    "ax.plot(y2, 's--', label='Line 2 (y2)', color='green', markersize=8, linewidth=2, zorder=2)\n",
    "\n",
    "# Add title and labels\n",
    "ax.set_title('Stylized 3D Effect Plot', fontsize=14, fontweight='bold', color='navy')\n",
    "ax.set_xlabel('Index', fontsize=12, fontweight='bold', color='black')\n",
    "ax.set_ylabel('Values', fontsize=12, fontweight='bold', color='black')\n",
    "\n",
    "# Add 3D effect on the legend with shadow and background\n",
    "ax.legend(\n",
    "    loc='upper left',\n",
    "    fontsize=12,\n",
    "    frameon=True,\n",
    "    facecolor='lightgray',  # 3D-like background\n",
    "    edgecolor='black',      # Border color\n",
    "    fancybox=True,          # Rounded corners\n",
    "    shadow=True,            # Shadow effect\n",
    "    borderpad=1.5,          # Padding inside the legend box\n",
    "    framealpha=0.5         # Transparency level of the frame\n",
    ")\n",
    "\n",
    "# To create a 3D-like effect on the plot, we use some tricks with zorder\n",
    "# You can also add 3D-style grid effects and other elements for more flair\n",
    "plt.grid(True, linestyle='-', color='gray', alpha=0.6, zorder=7)\n",
    "\n",
    "# Show the plot\n",
    "plt.show()\n"
   ]
  },
  {
   "cell_type": "code",
   "execution_count": 109,
   "metadata": {},
   "outputs": [],
   "source": [
    "import pandas as pd\n",
    "\n",
    "# Assuming 'data' is your DataFrame\n",
    "data.replace([float('inf'), -float('inf')], pd.NA, inplace=True)\n",
    "\n"
   ]
  },
  {
   "cell_type": "code",
   "execution_count": 110,
   "metadata": {},
   "outputs": [
    {
     "name": "stderr",
     "output_type": "stream",
     "text": [
      "d:\\anaconda3\\Lib\\site-packages\\seaborn\\_oldcore.py:1119: FutureWarning: use_inf_as_na option is deprecated and will be removed in a future version. Convert inf values to NaN before operating instead.\n",
      "  with pd.option_context('mode.use_inf_as_na', True):\n",
      "d:\\anaconda3\\Lib\\site-packages\\seaborn\\_oldcore.py:1119: FutureWarning: use_inf_as_na option is deprecated and will be removed in a future version. Convert inf values to NaN before operating instead.\n",
      "  with pd.option_context('mode.use_inf_as_na', True):\n"
     ]
    },
    {
     "data": {
      "text/plain": [
       "<Axes: xlabel='sepal_length', ylabel='sepal_width'>"
      ]
     },
     "execution_count": 110,
     "metadata": {},
     "output_type": "execute_result"
    },
    {
     "data": {
      "image/png": "[encoded data removed]",
      "text/plain": [
       "<Figure size 640x480 with 1 Axes>"
      ]
     },
     "metadata": {},
     "output_type": "display_data"
    }
   ],
   "source": [
    "\n",
    "# importing packages  \n",
    "import seaborn as sns  \n",
    "  \n",
    "# loading dataset  \n",
    "data = sns.load_dataset(\"iris\")  \n",
    "  \n",
    "# draw lineplot  \n",
    "sns.lineplot(x=\"sepal_length\", y=\"sepal_width\", data=data)"
   ]
  },
  {
   "cell_type": "code",
   "execution_count": 24,
   "metadata": {},
   "outputs": [
    {
     "data": {
      "text/plain": [
       "Text(0.5, 1.0, '2nd row |1nd clm| 3st postion')"
      ]
     },
     "execution_count": 24,
     "metadata": {},
     "output_type": "execute_result"
    },
    {
     "data": {
      "image/png": "[encoded data removed]",
      "text/plain": [
       "<Figure size 1200x600 with 3 Axes>"
      ]
     },
     "metadata": {},
     "output_type": "display_data"
    }
   ],
   "source": [
    "import matplotlib.pyplot as plt\n",
    "x=[1,2,3,4,5,23,34]\n",
    "y=[3,2,3,4,4,54,27]\n",
    "plt.figure(figsize=(12,6))\n",
    "plt.subplot(2,2,1)\n",
    "plt.title('1st row |1nd colm | 1st postion')\n",
    "plt.plot(x,y,'--b')\n",
    "\n",
    "plt.subplot(2,2,2)\n",
    "plt.plot(x,y,'--r')\n",
    "plt.title('first row |2nd clm| 2st postion')\n",
    "\n",
    "plt.subplot(2,2,3)\n",
    "plt.plot(x,y,'og')\n",
    "plt.title('2nd row |1nd clm| 3st postion')"
   ]
  },
  {
   "cell_type": "code",
   "execution_count": 33,
   "metadata": {},
   "outputs": [
    {
     "data": {
      "image/png": "[encoded data removed]",
      "text/plain": [
       "<Figure size 640x480 with 1 Axes>"
      ]
     },
     "metadata": {},
     "output_type": "display_data"
    }
   ],
   "source": [
    "import matplotlib.pyplot as plt\n",
    "\n",
    "x = [1, 2, 3, 4, 5, 6]  \n",
    "y = [10, 20, 25, 30, 40, 50] \n",
    "\n",
    "plt.scatter(x, y,c=y, s=y,cmap='jet')  \n",
    "plt.xlabel('X values')\n",
    "plt.ylabel('Y values')\n",
    "plt.title('Scatter Plot with Sizes Based on Y Values')\n",
    "plt.legend()\n",
    "plt.show()\n"
   ]
  },
  {
   "cell_type": "code",
   "execution_count": null,
   "metadata": {},
   "outputs": [
    {
     "data": {
      "image/png": "[encoded data removed]",
      "text/plain": [
       "<Figure size 640x480 with 2 Axes>"
      ]
     },
     "metadata": {},
     "output_type": "display_data"
    }
   ],
   "source": []
  },
  {
   "cell_type": "code",
   "execution_count": 38,
   "metadata": {},
   "outputs": [
    {
     "data": {
      "image/png": "[encoded data removed]",
      "text/plain": [
       "<Figure size 640x480 with 1 Axes>"
      ]
     },
     "metadata": {},
     "output_type": "display_data"
    },
    {
     "ename": "NameError",
     "evalue": "name 'ax' is not defined",
     "output_type": "error",
     "traceback": [
      "\u001b[1;31m---------------------------------------------------------------------------\u001b[0m",
      "\u001b[1;31mNameError\u001b[0m                                 Traceback (most recent call last)",
      "Cell \u001b[1;32mIn[38], line 12\u001b[0m\n\u001b[0;32m     10\u001b[0m explode \u001b[38;5;241m=\u001b[39m (\u001b[38;5;241m0.1\u001b[39m, \u001b[38;5;241m0\u001b[39m, \u001b[38;5;241m0\u001b[39m, \u001b[38;5;241m0\u001b[39m)  \u001b[38;5;66;03m# Only \"explode\" the first slice (Apples)\u001b[39;00m\n\u001b[0;32m     11\u001b[0m plt\u001b[38;5;241m.\u001b[39mpie(sizes, labels\u001b[38;5;241m=\u001b[39mlabels, autopct\u001b[38;5;241m=\u001b[39m\u001b[38;5;124m'\u001b[39m\u001b[38;5;132;01m%1.1f\u001b[39;00m\u001b[38;5;132;01m%%\u001b[39;00m\u001b[38;5;124m'\u001b[39m, startangle\u001b[38;5;241m=\u001b[39m\u001b[38;5;241m90\u001b[39m, explode\u001b[38;5;241m=\u001b[39mexplode)\n\u001b[1;32m---> 12\u001b[0m ax\u001b[38;5;241m.\u001b[39mpie\n",
      "\u001b[1;31mNameError\u001b[0m: name 'ax' is not defined"
     ]
    },
    {
     "data": {
      "image/png": "[encoded data removed]",
      "text/plain": [
       "<Figure size 640x480 with 1 Axes>"
      ]
     },
     "metadata": {},
     "output_type": "display_data"
    }
   ],
   "source": [
    "\n",
    "labels = ['Apples', 'Bananas', 'Cherries', 'Dates']\n",
    "sizes = [15, 30, 45, 10]\n",
    "\n",
    "plt.pie(sizes, labels=labels, autopct='%1.1f%%', startangle=90)\n",
    "plt.axis('equal')\n",
    "plt.title('Fruit Distribution')\n",
    "plt.show()\n",
    "\n",
    "\n",
    "explode = (0.1, 0, 0, 0)  # Only \"explode\" the first slice (Apples)\n",
    "plt.pie(sizes, labels=labels, autopct='%1.1f%%', startangle=90, explode=explode)\n",
    "ax.pie\n",
    "\n"
   ]
  },
  {
   "cell_type": "code",
   "execution_count": null,
   "metadata": {},
   "outputs": [
    {
     "data": {
      "application/vnd.plotly.v1+json": {
       "config": {
        "plotlyServerURL": "https://plot.ly"
       },
       "data": [
        {
         "hole": 0.3,
         "labels": [
          "Apples",
          "Bananas",
          "Cherries",
          "Dates"
         ],
         "marker": {
          "colors": [
           "#FF9999",
           "#66B3FF",
           "#99FF99",
           "#FFCC99"
          ]
         },
         "pull": [
          0.1,
          0,
          0,
          0
         ],
         "textinfo": "percent+label",
         "type": "pie",
         "values": [
          15,
          30,
          45,
          10
         ]
        }
       ],
       "layout": {
        "geo": {
         "projection": {
          "type": "orthographic"
         },
         "showland": true
        },
        "margin": {
         "b": 0,
         "l": 0,
         "r": 0,
         "t": 0
        },
        "paper_bgcolor": "rgba(0,0,0,0)",
        "scene": {
         "camera": {
          "eye": {
           "x": 2,
           "y": 2,
           "z": 1
          },
          "up": {
           "x": 0,
           "y": 0,
           "z": 1
          }
         },
         "xaxis": {
          "showticklabels": false
         },
         "yaxis": {
          "showticklabels": false
         },
         "zaxis": {
          "showticklabels": false
         }
        },
        "showlegend": true,
        "template": {
         "data": {
          "bar": [
           {
            "error_x": {
             "color": "#2a3f5f"
            },
            "error_y": {
             "color": "#2a3f5f"
            },
            "marker": {
             "line": {
              "color": "#E5ECF6",
              "width": 0.5
             },
             "pattern": {
              "fillmode": "overlay",
              "size": 10,
              "solidity": 0.2
             }
            },
            "type": "bar"
           }
          ],
          "barpolar": [
           {
            "marker": {
             "line": {
              "color": "#E5ECF6",
              "width": 0.5
             },
             "pattern": {
              "fillmode": "overlay",
              "size": 10,
              "solidity": 0.2
             }
            },
            "type": "barpolar"
           }
          ],
          "carpet": [
           {
            "aaxis": {
             "endlinecolor": "#2a3f5f",
             "gridcolor": "white",
             "linecolor": "white",
             "minorgridcolor": "white",
             "startlinecolor": "#2a3f5f"
            },
            "baxis": {
             "endlinecolor": "#2a3f5f",
             "gridcolor": "white",
             "linecolor": "white",
             "minorgridcolor": "white",
             "startlinecolor": "#2a3f5f"
            },
            "type": "carpet"
           }
          ],
          "choropleth": [
           {
            "colorbar": {
             "outlinewidth": 0,
             "ticks": ""
            },
            "type": "choropleth"
           }
          ],
          "contour": [
           {
            "colorbar": {
             "outlinewidth": 0,
             "ticks": ""
            },
            "colorscale": [
             [
              0,
              "#0d0887"
             ],
             [
              0.1111111111111111,
              "#46039f"
             ],
             [
              0.2222222222222222,
              "#7201a8"
             ],
             [
              0.3333333333333333,
              "#9c179e"
             ],
             [
              0.4444444444444444,
              "#bd3786"
             ],
             [
              0.5555555555555556,
              "#d8576b"
             ],
             [
              0.6666666666666666,
              "#ed7953"
             ],
             [
              0.7777777777777778,
              "#fb9f3a"
             ],
             [
              0.8888888888888888,
              "#fdca26"
             ],
             [
              1,
              "#f0f921"
             ]
            ],
            "type": "contour"
           }
          ],
          "contourcarpet": [
           {
            "colorbar": {
             "outlinewidth": 0,
             "ticks": ""
            },
            "type": "contourcarpet"
           }
          ],
          "heatmap": [
           {
            "colorbar": {
             "outlinewidth": 0,
             "ticks": ""
            },
            "colorscale": [
             [
              0,
              "#0d0887"
             ],
             [
              0.1111111111111111,
              "#46039f"
             ],
             [
              0.2222222222222222,
              "#7201a8"
             ],
             [
              0.3333333333333333,
              "#9c179e"
             ],
             [
              0.4444444444444444,
              "#bd3786"
             ],
             [
              0.5555555555555556,
              "#d8576b"
             ],
             [
              0.6666666666666666,
              "#ed7953"
             ],
             [
              0.7777777777777778,
              "#fb9f3a"
             ],
             [
              0.8888888888888888,
              "#fdca26"
             ],
             [
              1,
              "#f0f921"
             ]
            ],
            "type": "heatmap"
           }
          ],
          "heatmapgl": [
           {
            "colorbar": {
             "outlinewidth": 0,
             "ticks": ""
            },
            "colorscale": [
             [
              0,
              "#0d0887"
             ],
             [
              0.1111111111111111,
              "#46039f"
             ],
             [
              0.2222222222222222,
              "#7201a8"
             ],
             [
              0.3333333333333333,
              "#9c179e"
             ],
             [
              0.4444444444444444,
              "#bd3786"
             ],
             [
              0.5555555555555556,
              "#d8576b"
             ],
             [
              0.6666666666666666,
              "#ed7953"
             ],
             [
              0.7777777777777778,
              "#fb9f3a"
             ],
             [
              0.8888888888888888,
              "#fdca26"
             ],
             [
              1,
              "#f0f921"
             ]
            ],
            "type": "heatmapgl"
           }
          ],
          "histogram": [
           {
            "marker": {
             "pattern": {
              "fillmode": "overlay",
              "size": 10,
              "solidity": 0.2
             }
            },
            "type": "histogram"
           }
          ],
          "histogram2d": [
           {
            "colorbar": {
             "outlinewidth": 0,
             "ticks": ""
            },
            "colorscale": [
             [
              0,
              "#0d0887"
             ],
             [
              0.1111111111111111,
              "#46039f"
             ],
             [
              0.2222222222222222,
              "#7201a8"
             ],
             [
              0.3333333333333333,
              "#9c179e"
             ],
             [
              0.4444444444444444,
              "#bd3786"
             ],
             [
              0.5555555555555556,
              "#d8576b"
             ],
             [
              0.6666666666666666,
              "#ed7953"
             ],
             [
              0.7777777777777778,
              "#fb9f3a"
             ],
             [
              0.8888888888888888,
              "#fdca26"
             ],
             [
              1,
              "#f0f921"
             ]
            ],
            "type": "histogram2d"
           }
          ],
          "histogram2dcontour": [
           {
            "colorbar": {
             "outlinewidth": 0,
             "ticks": ""
            },
            "colorscale": [
             [
              0,
              "#0d0887"
             ],
             [
              0.1111111111111111,
              "#46039f"
             ],
             [
              0.2222222222222222,
              "#7201a8"
             ],
             [
              0.3333333333333333,
              "#9c179e"
             ],
             [
              0.4444444444444444,
              "#bd3786"
             ],
             [
              0.5555555555555556,
              "#d8576b"
             ],
             [
              0.6666666666666666,
              "#ed7953"
             ],
             [
              0.7777777777777778,
              "#fb9f3a"
             ],
             [
              0.8888888888888888,
              "#fdca26"
             ],
             [
              1,
              "#f0f921"
             ]
            ],
            "type": "histogram2dcontour"
           }
          ],
          "mesh3d": [
           {
            "colorbar": {
             "outlinewidth": 0,
             "ticks": ""
            },
            "type": "mesh3d"
           }
          ],
          "parcoords": [
           {
            "line": {
             "colorbar": {
              "outlinewidth": 0,
              "ticks": ""
             }
            },
            "type": "parcoords"
           }
          ],
          "pie": [
           {
            "automargin": true,
            "type": "pie"
           }
          ],
          "scatter": [
           {
            "fillpattern": {
             "fillmode": "overlay",
             "size": 10,
             "solidity": 0.2
            },
            "type": "scatter"
           }
          ],
          "scatter3d": [
           {
            "line": {
             "colorbar": {
              "outlinewidth": 0,
              "ticks": ""
             }
            },
            "marker": {
             "colorbar": {
              "outlinewidth": 0,
              "ticks": ""
             }
            },
            "type": "scatter3d"
           }
          ],
          "scattercarpet": [
           {
            "marker": {
             "colorbar": {
              "outlinewidth": 0,
              "ticks": ""
             }
            },
            "type": "scattercarpet"
           }
          ],
          "scattergeo": [
           {
            "marker": {
             "colorbar": {
              "outlinewidth": 0,
              "ticks": ""
             }
            },
            "type": "scattergeo"
           }
          ],
          "scattergl": [
           {
            "marker": {
             "colorbar": {
              "outlinewidth": 0,
              "ticks": ""
             }
            },
            "type": "scattergl"
           }
          ],
          "scattermapbox": [
           {
            "marker": {
             "colorbar": {
              "outlinewidth": 0,
              "ticks": ""
             }
            },
            "type": "scattermapbox"
           }
          ],
          "scatterpolar": [
           {
            "marker": {
             "colorbar": {
              "outlinewidth": 0,
              "ticks": ""
             }
            },
            "type": "scatterpolar"
           }
          ],
          "scatterpolargl": [
           {
            "marker": {
             "colorbar": {
              "outlinewidth": 0,
              "ticks": ""
             }
            },
            "type": "scatterpolargl"
           }
          ],
          "scatterternary": [
           {
            "marker": {
             "colorbar": {
              "outlinewidth": 0,
              "ticks": ""
             }
            },
            "type": "scatterternary"
           }
          ],
          "surface": [
           {
            "colorbar": {
             "outlinewidth": 0,
             "ticks": ""
            },
            "colorscale": [
             [
              0,
              "#0d0887"
             ],
             [
              0.1111111111111111,
              "#46039f"
             ],
             [
              0.2222222222222222,
              "#7201a8"
             ],
             [
              0.3333333333333333,
              "#9c179e"
             ],
             [
              0.4444444444444444,
              "#bd3786"
             ],
             [
              0.5555555555555556,
              "#d8576b"
             ],
             [
              0.6666666666666666,
              "#ed7953"
             ],
             [
              0.7777777777777778,
              "#fb9f3a"
             ],
             [
              0.8888888888888888,
              "#fdca26"
             ],
             [
              1,
              "#f0f921"
             ]
            ],
            "type": "surface"
           }
          ],
          "table": [
           {
            "cells": {
             "fill": {
              "color": "#EBF0F8"
             },
             "line": {
              "color": "white"
             }
            },
            "header": {
             "fill": {
              "color": "#C8D4E3"
             },
             "line": {
              "color": "white"
             }
            },
            "type": "table"
           }
          ]
         },
         "layout": {
          "annotationdefaults": {
           "arrowcolor": "#2a3f5f",
           "arrowhead": 0,
           "arrowwidth": 1
          },
          "autotypenumbers": "strict",
          "coloraxis": {
           "colorbar": {
            "outlinewidth": 0,
            "ticks": ""
           }
          },
          "colorscale": {
           "diverging": [
            [
             0,
             "#8e0152"
            ],
            [
             0.1,
             "#c51b7d"
            ],
            [
             0.2,
             "#de77ae"
            ],
            [
             0.3,
             "#f1b6da"
            ],
            [
             0.4,
             "#fde0ef"
            ],
            [
             0.5,
             "#f7f7f7"
            ],
            [
             0.6,
             "#e6f5d0"
            ],
            [
             0.7,
             "#b8e186"
            ],
            [
             0.8,
             "#7fbc41"
            ],
            [
             0.9,
             "#4d9221"
            ],
            [
             1,
             "#276419"
            ]
           ],
           "sequential": [
            [
             0,
             "#0d0887"
            ],
            [
             0.1111111111111111,
             "#46039f"
            ],
            [
             0.2222222222222222,
             "#7201a8"
            ],
            [
             0.3333333333333333,
             "#9c179e"
            ],
            [
             0.4444444444444444,
             "#bd3786"
            ],
            [
             0.5555555555555556,
             "#d8576b"
            ],
            [
             0.6666666666666666,
             "#ed7953"
            ],
            [
             0.7777777777777778,
             "#fb9f3a"
            ],
            [
             0.8888888888888888,
             "#fdca26"
            ],
            [
             1,
             "#f0f921"
            ]
           ],
           "sequentialminus": [
            [
             0,
             "#0d0887"
            ],
            [
             0.1111111111111111,
             "#46039f"
            ],
            [
             0.2222222222222222,
             "#7201a8"
            ],
            [
             0.3333333333333333,
             "#9c179e"
            ],
            [
             0.4444444444444444,
             "#bd3786"
            ],
            [
             0.5555555555555556,
             "#d8576b"
            ],
            [
             0.6666666666666666,
             "#ed7953"
            ],
            [
             0.7777777777777778,
             "#fb9f3a"
            ],
            [
             0.8888888888888888,
             "#fdca26"
            ],
            [
             1,
             "#f0f921"
            ]
           ]
          },
          "colorway": [
           "#636efa",
           "#EF553B",
           "#00cc96",
           "#ab63fa",
           "#FFA15A",
           "#19d3f3",
           "#FF6692",
           "#B6E880",
           "#FF97FF",
           "#FECB52"
          ],
          "font": {
           "color": "#2a3f5f"
          },
          "geo": {
           "bgcolor": "white",
           "lakecolor": "white",
           "landcolor": "#E5ECF6",
           "showlakes": true,
           "showland": true,
           "subunitcolor": "white"
          },
          "hoverlabel": {
           "align": "left"
          },
          "hovermode": "closest",
          "mapbox": {
           "style": "light"
          },
          "paper_bgcolor": "white",
          "plot_bgcolor": "#E5ECF6",
          "polar": {
           "angularaxis": {
            "gridcolor": "white",
            "linecolor": "white",
            "ticks": ""
           },
           "bgcolor": "#E5ECF6",
           "radialaxis": {
            "gridcolor": "white",
            "linecolor": "white",
            "ticks": ""
           }
          },
          "scene": {
           "xaxis": {
            "backgroundcolor": "#E5ECF6",
            "gridcolor": "white",
            "gridwidth": 2,
            "linecolor": "white",
            "showbackground": true,
            "ticks": "",
            "zerolinecolor": "white"
           },
           "yaxis": {
            "backgroundcolor": "#E5ECF6",
            "gridcolor": "white",
            "gridwidth": 2,
            "linecolor": "white",
            "showbackground": true,
            "ticks": "",
            "zerolinecolor": "white"
           },
           "zaxis": {
            "backgroundcolor": "#E5ECF6",
            "gridcolor": "white",
            "gridwidth": 2,
            "linecolor": "white",
            "showbackground": true,
            "ticks": "",
            "zerolinecolor": "white"
           }
          },
          "shapedefaults": {
           "line": {
            "color": "#2a3f5f"
           }
          },
          "ternary": {
           "aaxis": {
            "gridcolor": "white",
            "linecolor": "white",
            "ticks": ""
           },
           "baxis": {
            "gridcolor": "white",
            "linecolor": "white",
            "ticks": ""
           },
           "bgcolor": "#E5ECF6",
           "caxis": {
            "gridcolor": "white",
            "linecolor": "white",
            "ticks": ""
           }
          },
          "title": {
           "x": 0.05
          },
          "xaxis": {
           "automargin": true,
           "gridcolor": "white",
           "linecolor": "white",
           "ticks": "",
           "title": {
            "standoff": 15
           },
           "zerolinecolor": "white",
           "zerolinewidth": 2
          },
          "yaxis": {
           "automargin": true,
           "gridcolor": "white",
           "linecolor": "white",
           "ticks": "",
           "title": {
            "standoff": 15
           },
           "zerolinecolor": "white",
           "zerolinewidth": 2
          }
         }
        },
        "title": {
         "text": "3D Ball-Like Pie Chart with Lighting"
        }
       }
      }
     },
     "metadata": {},
     "output_type": "display_data"
    }
   ],
   "source": []
  },
  {
   "cell_type": "code",
   "execution_count": 49,
   "metadata": {},
   "outputs": [
    {
     "name": "stdout",
     "output_type": "stream",
     "text": [
      "Collecting dash\n",
      "  Downloading dash-2.18.2-py3-none-any.whl.metadata (10 kB)\n",
      "Requirement already satisfied: plotly in d:\\anaconda3\\lib\\site-packages (5.9.0)\n",
      "Requirement already satisfied: Flask<3.1,>=1.0.4 in d:\\anaconda3\\lib\\site-packages (from dash) (2.2.5)\n",
      "Requirement already satisfied: Werkzeug<3.1 in d:\\anaconda3\\lib\\site-packages (from dash) (2.2.3)\n",
      "Collecting dash-html-components==2.0.0 (from dash)\n",
      "  Downloading dash_html_components-2.0.0-py3-none-any.whl.metadata (3.8 kB)\n",
      "Collecting dash-core-components==2.0.0 (from dash)\n",
      "  Downloading dash_core_components-2.0.0-py3-none-any.whl.metadata (2.9 kB)\n",
      "Collecting dash-table==5.0.0 (from dash)\n",
      "  Downloading dash_table-5.0.0-py3-none-any.whl.metadata (2.4 kB)\n",
      "Requirement already satisfied: importlib-metadata in d:\\anaconda3\\lib\\site-packages (from dash) (7.0.1)\n",
      "Requirement already satisfied: typing-extensions>=4.1.1 in d:\\anaconda3\\lib\\site-packages (from dash) (4.9.0)\n",
      "Requirement already satisfied: requests in d:\\anaconda3\\lib\\site-packages (from dash) (2.31.0)\n",
      "Collecting retrying (from dash)\n",
      "  Downloading retrying-1.3.4-py3-none-any.whl.metadata (6.9 kB)\n",
      "Requirement already satisfied: nest-asyncio in d:\\anaconda3\\lib\\site-packages (from dash) (1.6.0)\n",
      "Requirement already satisfied: setuptools in d:\\anaconda3\\lib\\site-packages (from dash) (68.2.2)\n",
      "Requirement already satisfied: tenacity>=6.2.0 in d:\\anaconda3\\lib\\site-packages (from plotly) (8.2.2)\n",
      "Requirement already satisfied: Jinja2>=3.0 in d:\\anaconda3\\lib\\site-packages (from Flask<3.1,>=1.0.4->dash) (3.1.3)\n",
      "Requirement already satisfied: itsdangerous>=2.0 in d:\\anaconda3\\lib\\site-packages (from Flask<3.1,>=1.0.4->dash) (2.0.1)\n",
      "Requirement already satisfied: click>=8.0 in d:\\anaconda3\\lib\\site-packages (from Flask<3.1,>=1.0.4->dash) (8.1.7)\n",
      "Requirement already satisfied: MarkupSafe>=2.1.1 in d:\\anaconda3\\lib\\site-packages (from Werkzeug<3.1->dash) (2.1.3)\n",
      "Requirement already satisfied: zipp>=0.5 in d:\\anaconda3\\lib\\site-packages (from importlib-metadata->dash) (3.17.0)\n",
      "Requirement already satisfied: charset-normalizer<4,>=2 in d:\\anaconda3\\lib\\site-packages (from requests->dash) (2.0.4)\n",
      "Requirement already satisfied: idna<4,>=2.5 in d:\\anaconda3\\lib\\site-packages (from requests->dash) (3.4)\n",
      "Requirement already satisfied: urllib3<3,>=1.21.1 in d:\\anaconda3\\lib\\site-packages (from requests->dash) (2.0.7)\n",
      "Requirement already satisfied: certifi>=2017.4.17 in d:\\anaconda3\\lib\\site-packages (from requests->dash) (2024.2.2)\n",
      "Requirement already satisfied: six>=1.7.0 in d:\\anaconda3\\lib\\site-packages (from retrying->dash) (1.16.0)\n",
      "Requirement already satisfied: colorama in d:\\anaconda3\\lib\\site-packages (from click>=8.0->Flask<3.1,>=1.0.4->dash) (0.4.6)\n",
      "Downloading dash-2.18.2-py3-none-any.whl (7.8 MB)\n",
      "   ---------------------------------------- 0.0/7.8 MB ? eta -:--:--\n",
      "   ---------------------------------------- 0.0/7.8 MB 1.4 MB/s eta 0:00:06\n",
      "    --------------------------------------- 0.1/7.8 MB 1.5 MB/s eta 0:00:06\n",
      "   - -------------------------------------- 0.2/7.8 MB 1.9 MB/s eta 0:00:05\n",
      "   -- ------------------------------------- 0.5/7.8 MB 3.2 MB/s eta 0:00:03\n",
      "   ----- ---------------------------------- 1.0/7.8 MB 5.0 MB/s eta 0:00:02\n",
      "   ------- -------------------------------- 1.5/7.8 MB 6.0 MB/s eta 0:00:02\n",
      "   ------------ --------------------------- 2.5/7.8 MB 8.5 MB/s eta 0:00:01\n",
      "   ------------------- -------------------- 3.9/7.8 MB 11.2 MB/s eta 0:00:01\n",
      "   ---------------------------- ----------- 5.5/7.8 MB 14.1 MB/s eta 0:00:01\n",
      "   ----------------------------------- ---- 7.0/7.8 MB 15.9 MB/s eta 0:00:01\n",
      "   ---------------------------------------  7.8/7.8 MB 17.2 MB/s eta 0:00:01\n",
      "   ---------------------------------------- 7.8/7.8 MB 15.6 MB/s eta 0:00:00\n",
      "Downloading dash_core_components-2.0.0-py3-none-any.whl (3.8 kB)\n",
      "Downloading dash_html_components-2.0.0-py3-none-any.whl (4.1 kB)\n",
      "Downloading dash_table-5.0.0-py3-none-any.whl (3.9 kB)\n",
      "Downloading retrying-1.3.4-py3-none-any.whl (11 kB)\n",
      "Installing collected packages: dash-table, dash-html-components, dash-core-components, retrying, dash\n",
      "Successfully installed dash-2.18.2 dash-core-components-2.0.0 dash-html-components-2.0.0 dash-table-5.0.0 retrying-1.3.4\n",
      "Note: you may need to restart the kernel to use updated packages.\n"
     ]
    }
   ],
   "source": [
    "pip install dash plotly\n"
   ]
  },
  {
   "cell_type": "code",
   "execution_count": 50,
   "metadata": {},
   "outputs": [
    {
     "name": "stderr",
     "output_type": "stream",
     "text": [
      "C:\\Users\\Avinash rai\\AppData\\Local\\Temp\\ipykernel_11288\\3362348812.py:2: UserWarning:\n",
      "\n",
      "\n",
      "The dash_core_components package is deprecated. Please replace\n",
      "`import dash_core_components as dcc` with `from dash import dcc`\n",
      "\n",
      "C:\\Users\\Avinash rai\\AppData\\Local\\Temp\\ipykernel_11288\\3362348812.py:3: UserWarning:\n",
      "\n",
      "\n",
      "The dash_html_components package is deprecated. Please replace\n",
      "`import dash_html_components as html` with `from dash import html`\n",
      "\n"
     ]
    },
    {
     "data": {
      "text/html": [
       "\n",
       "        <iframe\n",
       "            width=\"100%\"\n",
       "            height=\"650\"\n",
       "            src=\"http://127.0.0.1:8050/\"\n",
       "            frameborder=\"0\"\n",
       "            allowfullscreen\n",
       "            \n",
       "        ></iframe>\n",
       "        "
      ],
      "text/plain": [
       "<IPython.lib.display.IFrame at 0x14abfb589d0>"
      ]
     },
     "metadata": {},
     "output_type": "display_data"
    }
   ],
   "source": [
    "import dash\n",
    "import dash_core_components as dcc\n",
    "import dash_html_components as html\n",
    "from dash.dependencies import Input, Output\n",
    "import plotly.graph_objects as go\n",
    "import numpy as np\n",
    "\n",
    "# Initialize Dash app\n",
    "app = dash.Dash(__name__)\n",
    "\n",
    "# Sample Data\n",
    "labels = ['Apples', 'Bananas', 'Cherries', 'Dates']\n",
    "sizes = [15, 30, 45, 10]\n",
    "x = np.linspace(0, 10, 100)\n",
    "y = np.sin(x)\n",
    "z = np.random.rand(10)\n",
    "\n",
    "# Layout of the app\n",
    "app.layout = html.Div([\n",
    "    html.H1(\"Expert Level Interactive Dashboard\", style={'text-align': 'center'}),\n",
    "\n",
    "    # 3D Pie Chart\n",
    "    html.Div([\n",
    "        dcc.Graph(id='3d-pie-chart')\n",
    "    ], style={'width': '50%', 'display': 'inline-block'}),\n",
    "\n",
    "    # Bar Chart\n",
    "    html.Div([\n",
    "        dcc.Graph(id='bar-chart')\n",
    "    ], style={'width': '50%', 'display': 'inline-block'}),\n",
    "\n",
    "    # Line Chart with Slider\n",
    "    html.Div([\n",
    "        html.Label(\"Adjust Line Chart Frequency:\"),\n",
    "        dcc.Slider(\n",
    "            id='line-frequency-slider',\n",
    "            min=1,\n",
    "            max=10,\n",
    "            step=1,\n",
    "            value=1,\n",
    "            marks={i: str(i) for i in range(1, 11)},\n",
    "        ),\n",
    "        dcc.Graph(id='line-chart')\n",
    "    ], style={'margin-top': '50px'}),\n",
    "\n",
    "    # Dropdown for scatter plot type\n",
    "    html.Div([\n",
    "        html.Label(\"Select Scatter Plot Type:\"),\n",
    "        dcc.Dropdown(\n",
    "            id='scatter-type-dropdown',\n",
    "            options=[\n",
    "                {'label': 'Random Scatter', 'value': 'random'},\n",
    "                {'label': 'Sine Wave', 'value': 'sine'}\n",
    "            ],\n",
    "            value='random'\n",
    "        ),\n",
    "        dcc.Graph(id='scatter-plot')\n",
    "    ], style={'margin-top': '50px'})\n",
    "])\n",
    "\n",
    "# 3D Pie Chart Callback\n",
    "@app.callback(\n",
    "    Output('3d-pie-chart', 'figure'),\n",
    "    [Input('line-frequency-slider', 'value')]\n",
    ")\n",
    "def update_pie_chart(slider_value):\n",
    "    # Adjust the 3D-like Pie chart based on the slider value (example logic)\n",
    "    explode = [0.1 * slider_value, 0, 0, 0]  # Exploding slice changes with slider\n",
    "    fig = go.Figure(data=[go.Pie(\n",
    "        labels=labels,\n",
    "        values=sizes,\n",
    "        hole=0.3,\n",
    "        marker=dict(colors=['#FF9999', '#66B3FF', '#99FF99', '#FFCC99']),\n",
    "        pull=explode,\n",
    "        textinfo='percent+label'\n",
    "    )])\n",
    "    fig.update_layout(\n",
    "        title='3D-like Pie Chart with Slider Control',\n",
    "        showlegend=True\n",
    "    )\n",
    "    return fig\n",
    "\n",
    "# Bar Chart Callback\n",
    "@app.callback(\n",
    "    Output('bar-chart', 'figure'),\n",
    "    [Input('line-frequency-slider', 'value')]\n",
    ")\n",
    "def update_bar_chart(slider_value):\n",
    "    fig = go.Figure(data=[go.Bar(\n",
    "        x=labels,\n",
    "        y=[value * slider_value for value in sizes],  # Scaling bar heights based on slider\n",
    "        marker=dict(color=['#FF9999', '#66B3FF', '#99FF99', '#FFCC99'])\n",
    "    )])\n",
    "    fig.update_layout(\n",
    "        title='Bar Chart with Slider Control',\n",
    "        showlegend=False\n",
    "    )\n",
    "    return fig\n",
    "\n",
    "# Line Chart Callback (Frequency controlled)\n",
    "@app.callback(\n",
    "    Output('line-chart', 'figure'),\n",
    "    [Input('line-frequency-slider', 'value')]\n",
    ")\n",
    "def update_line_chart(frequency):\n",
    "    y_new = np.sin(frequency * x)  # Adjust frequency of sine wave based on slider\n",
    "    fig = go.Figure(data=[go.Scatter(x=x, y=y_new, mode='lines', line=dict(color='blue'))])\n",
    "    fig.update_layout(\n",
    "        title=f'Line Chart with Frequency {frequency}',\n",
    "        xaxis_title='X',\n",
    "        yaxis_title='Y'\n",
    "    )\n",
    "    return fig\n",
    "\n",
    "# Scatter Plot Callback (Dynamic Data)\n",
    "@app.callback(\n",
    "    Output('scatter-plot', 'figure'),\n",
    "    [Input('scatter-type-dropdown', 'value')]\n",
    ")\n",
    "def update_scatter_plot(plot_type):\n",
    "    if plot_type == 'sine':\n",
    "        fig = go.Figure(data=[go.Scatter(x=x, y=np.sin(x), mode='markers', marker=dict(color='green'))])\n",
    "        fig.update_layout(title='Sine Wave Scatter Plot')\n",
    "    else:\n",
    "        fig = go.Figure(data=[go.Scatter(x=np.random.rand(100), y=np.random.rand(100), mode='markers', marker=dict(color='red'))])\n",
    "        fig.update_layout(title='Random Scatter Plot')\n",
    "    return fig\n",
    "\n",
    "# Run the app\n",
    "if __name__ == '__main__':\n",
    "    app.run_server(debug=True)\n"
   ]
  },
  {
   "cell_type": "code",
   "execution_count": 4,
   "metadata": {},
   "outputs": [
    {
     "data": {
      "text/html": [
       "\n",
       "        <iframe\n",
       "            width=\"100%\"\n",
       "            height=\"650\"\n",
       "            src=\"http://127.0.0.1:8050/\"\n",
       "            frameborder=\"0\"\n",
       "            allowfullscreen\n",
       "            \n",
       "        ></iframe>\n",
       "        "
      ],
      "text/plain": [
       "<IPython.lib.display.IFrame at 0x18466eba190>"
      ]
     },
     "metadata": {},
     "output_type": "display_data"
    }
   ],
   "source": [
    "from dash import dcc, html\n",
    "\n",
    "from dash.dependencies import Input, Output\n",
    "import plotly.graph_objects as go\n",
    "import numpy as np\n",
    "import pandas as pd\n",
    "\n",
    "# Initialize Dash app\n",
    "app = dash.Dash(__name__)\n",
    "\n",
    "# Sample Data\n",
    "labels = ['Apples', 'Bananas', 'Cherries', 'Dates']\n",
    "sizes = [15, 30, 45, 10]\n",
    "x = np.linspace(0, 10, 100)\n",
    "y = np.sin(x)\n",
    "z = np.random.rand(10)\n",
    "\n",
    "# Radar Chart Data\n",
    "categories = ['Math', 'Science', 'English', 'History', 'Art']\n",
    "values = [90, 75, 85, 80, 95]\n",
    "\n",
    "# Layout of the app\n",
    "app.layout = html.Div([\n",
    "    html.H1(\"Professional Interactive Dashboard\", style={'text-align': 'center'}),\n",
    "\n",
    "    # Row 1: 3D Pie Chart and Bar Chart\n",
    "    html.Div([\n",
    "        html.Div([\n",
    "            dcc.Graph(id='3d-pie-chart', style={'height': '400px'})\n",
    "        ], style={'width': '50%', 'display': 'inline-block'}),\n",
    "\n",
    "        html.Div([\n",
    "            dcc.Graph(id='bar-chart', style={'height': '400px'})\n",
    "        ], style={'width': '50%', 'display': 'inline-block'}),\n",
    "    ], style={'display': 'flex'}),\n",
    "\n",
    "    # Row 2: Line Chart and Scatter Plot\n",
    "    html.Div([\n",
    "        html.Div([\n",
    "            html.Label(\"Adjust Line Chart Frequency:\"),\n",
    "            dcc.Slider(\n",
    "                id='line-frequency-slider',\n",
    "                min=1,\n",
    "                max=10,\n",
    "                step=1,\n",
    "                value=1,\n",
    "                marks={i: str(i) for i in range(1, 11)},\n",
    "            ),\n",
    "            dcc.Graph(id='line-chart', style={'height': '400px'})\n",
    "        ], style={'width': '50%', 'display': 'inline-block'}),\n",
    "\n",
    "        html.Div([\n",
    "            html.Label(\"Select Scatter Plot Type:\"),\n",
    "            dcc.Dropdown(\n",
    "                id='scatter-type-dropdown',\n",
    "                options=[\n",
    "                    {'label': 'Random Scatter', 'value': 'random'},\n",
    "                    {'label': 'Sine Wave', 'value': 'sine'}\n",
    "                ],\n",
    "                value='random'\n",
    "            ),\n",
    "            dcc.Graph(id='scatter-plot', style={'height': '400px'})\n",
    "        ], style={'width': '50%', 'display': 'inline-block'}),\n",
    "    ], style={'display': 'flex', 'margin-top': '50px'}),\n",
    "\n",
    "    # Row 3: Radar Chart\n",
    "    html.Div([\n",
    "        html.Div([\n",
    "            dcc.Graph(id='radar-chart', style={'height': '400px'})\n",
    "        ], style={'width': '100%', 'display': 'inline-block'})\n",
    "    ], style={'margin-top': '50px'})\n",
    "])\n",
    "\n",
    "# 3D Pie Chart Callback\n",
    "@app.callback(\n",
    "    Output('3d-pie-chart', 'figure'),\n",
    "    [Input('line-frequency-slider', 'value')]\n",
    ")\n",
    "def update_pie_chart(slider_value):\n",
    "    explode = [0.1 * slider_value, 0, 0, 0]  # Exploding slice changes with slider\n",
    "    fig = go.Figure(data=[go.Pie(\n",
    "        labels=labels,\n",
    "        values=sizes,\n",
    "        hole=0.3,\n",
    "        marker=dict(colors=['#FF9999', '#66B3FF', '#99FF99', '#FFCC99']),\n",
    "        pull=explode,\n",
    "        textinfo='percent+label'\n",
    "    )])\n",
    "    fig.update_layout(\n",
    "        title='3D-like Pie Chart with Slider Control',\n",
    "        showlegend=True\n",
    "    )\n",
    "    return fig\n",
    "\n",
    "# Bar Chart Callback\n",
    "@app.callback(\n",
    "    Output('bar-chart', 'figure'),\n",
    "    [Input('line-frequency-slider', 'value')]\n",
    ")\n",
    "def update_bar_chart(slider_value):\n",
    "    fig = go.Figure(data=[go.Bar(\n",
    "        x=labels,\n",
    "        y=[value * slider_value for value in sizes],  # Scaling bar heights based on slider\n",
    "        marker=dict(color=['#FF9999', '#66B3FF', '#99FF99', '#FFCC99'])\n",
    "    )])\n",
    "    fig.update_layout(\n",
    "        title='Bar Chart with Slider Control',\n",
    "        showlegend=False\n",
    "    )\n",
    "    return fig\n",
    "\n",
    "# Line Chart Callback (Frequency controlled)\n",
    "@app.callback(\n",
    "    Output('line-chart', 'figure'),\n",
    "    [Input('line-frequency-slider', 'value')]\n",
    ")\n",
    "def update_line_chart(frequency):\n",
    "    y_new = np.sin(frequency * x)  # Adjust frequency of sine wave based on slider\n",
    "    fig = go.Figure(data=[go.Scatter(x=x, y=y_new, mode='lines', line=dict(color='blue'))])\n",
    "    fig.update_layout(\n",
    "        title=f'Line Chart with Frequency {frequency}',\n",
    "        xaxis_title='X',\n",
    "        yaxis_title='Y'\n",
    "    )\n",
    "    return fig\n",
    "\n",
    "# Scatter Plot Callback (Dynamic Data)\n",
    "@app.callback(\n",
    "    Output('scatter-plot', 'figure'),\n",
    "    [Input('scatter-type-dropdown', 'value')]\n",
    ")\n",
    "def update_scatter_plot(plot_type):\n",
    "    if plot_type == 'sine':\n",
    "        fig = go.Figure(data=[go.Scatter(x=x, y=np.sin(x), mode='markers', marker=dict(color='green'))])\n",
    "        fig.update_layout(title='Sine Wave Scatter Plot')\n",
    "    else:\n",
    "        fig = go.Figure(data=[go.Scatter(x=np.random.rand(100), y=np.random.rand(100), mode='markers', marker=dict(color='red'))])\n",
    "        fig.update_layout(title='Random Scatter Plot')\n",
    "    return fig\n",
    "\n",
    "# Radar Chart Callback\n",
    "@app.callback(\n",
    "    Output('radar-chart', 'figure'),\n",
    "    [Input('line-frequency-slider', 'value')]\n",
    ")\n",
    "def update_radar_chart(slider_value):\n",
    "    fig = go.Figure(data=[go.Scatterpolar(\n",
    "        r=[value * (slider_value / 5) for value in values],  # Scale values based on slider\n",
    "        theta=categories,\n",
    "        fill='toself',\n",
    "        line=dict(color='blue')\n",
    "    )])\n",
    "    fig.update_layout(\n",
    "        polar=dict(\n",
    "            radialaxis=dict(visible=True, range=[0, 100])\n",
    "        ),\n",
    "        title='Radar Chart with Frequency Control'\n",
    "    )\n",
    "    return fig\n",
    "\n",
    "# Run the app\n",
    "if __name__ == '__main__':\n",
    "    app.run_server(debug=True)\n"
   ]
  },
  {
   "cell_type": "code",
   "execution_count": 2,
   "metadata": {},
   "outputs": [],
   "source": [
    "import dash_core_components as dcc\n",
    "import dash_html_components as html\n"
   ]
  },
  {
   "cell_type": "code",
   "execution_count": 3,
   "metadata": {},
   "outputs": [],
   "source": [
    "from dash import dcc, html\n"
   ]
  }
 ],
 "metadata": {
  "kernelspec": {
   "display_name": "base",
   "language": "python",
   "name": "python3"
  },
  "language_info": {
   "codemirror_mode": {
    "name": "ipython",
    "version": 3
   },
   "file_extension": ".py",
   "mimetype": "text/x-python",
   "name": "python",
   "nbconvert_exporter": "python",
   "pygments_lexer": "ipython3",
   "version": "3.11.7"
  }
 },
 "nbformat": 4,
 "nbformat_minor": 2
}
